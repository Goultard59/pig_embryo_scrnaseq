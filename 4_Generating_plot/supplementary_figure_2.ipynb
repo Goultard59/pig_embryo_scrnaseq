{
 "cells": [
  {
   "cell_type": "markdown",
   "id": "a270ad4f-cea7-4d61-95ac-da772c9d27a5",
   "metadata": {},
   "source": [
    "## Generating supplementary figure 2"
   ]
  },
  {
   "cell_type": "markdown",
   "id": "ddd4de73-e47a-442b-8556-d877fa232c4f",
   "metadata": {},
   "source": [
    "package loading"
   ]
  },
  {
   "cell_type": "code",
   "execution_count": 12,
   "id": "58b32f5e-86ac-438c-a371-c7cdeb2ce5b6",
   "metadata": {
    "vscode": {
     "languageId": "r"
    }
   },
   "outputs": [],
   "source": [
    "library(Seurat)\n",
    "library(dplyr)\n",
    "library(tidyr)\n",
    "library(tibble)\n",
    "library(ggplot2)\n",
    "library(viridis)\n",
    "library(patchwork)"
   ]
  },
  {
   "cell_type": "markdown",
   "id": "a02d3357-180a-46b1-b77b-767f920d3330",
   "metadata": {},
   "source": [
    "Definitions of colors pallet"
   ]
  },
  {
   "cell_type": "code",
   "execution_count": 2,
   "id": "02ae6e19-462f-40e4-97f8-e744b26e05d1",
   "metadata": {
    "vscode": {
     "languageId": "r"
    }
   },
   "outputs": [],
   "source": [
    "custom_colors <- list()\n",
    "\n",
    "colors_dutch <- c(\n",
    "  '#FFC312','#C4E538','#12CBC4','#FDA7DF','#ED4C67',\n",
    "  '#F79F1F','#A3CB38','#1289A7','#D980FA','#B53471',\n",
    "  '#EE5A24','#009432','#0652DD','#9980FA','#833471',\n",
    "  '#EA2027','#006266','#1B1464','#5758BB','#6F1E51'\n",
    ")\n",
    "\n",
    "colors_spanish <- c(\n",
    "  '#40407a','#706fd3','#f7f1e3','#34ace0','#33d9b2',\n",
    "  '#2c2c54','#474787','#aaa69d','#227093','#218c74',\n",
    "  '#ff5252','#ff793f','#d1ccc0','#ffb142','#ffda79',\n",
    "  '#b33939','#cd6133','#84817a','#cc8e35','#ccae62'\n",
    ")\n",
    "\n",
    "custom_colors$discrete <- c(colors_dutch, colors_spanish)\n",
    "\n",
    "custom_colors$cell_cycle <- setNames(\n",
    "  c('#45aaf2', '#f1c40f', '#e74c3c', '#7f8c8d'),\n",
    "  c('G1',      'S',       'G2M',     '-')\n",
    ")"
   ]
  },
  {
   "cell_type": "markdown",
   "id": "6586fc73-da15-45f8-801b-f1b7a4692c25",
   "metadata": {},
   "source": [
    "Loading the seurat objects"
   ]
  },
  {
   "cell_type": "code",
   "execution_count": 3,
   "id": "2eb9c207-9ab2-4f64-8805-0edbb2d8fd01",
   "metadata": {
    "vscode": {
     "languageId": "r"
    }
   },
   "outputs": [],
   "source": [
    "embryo_d5 <-readRDS(\"/home/adufour/work/rds_storage/stades/embryo.j5.rds\")\n",
    "embryo_d7 <-readRDS(\"/home/adufour/work/rds_storage/stades/embryo.j7.rds\")\n",
    "embryo_d9 <-readRDS(\"/home/adufour/work/rds_storage/stades/embryo.j9.rds\")\n",
    "embryo_d11 <-readRDS(\"/home/adufour/work/rds_storage/stades/embryo.j11.rds\")"
   ]
  },
  {
   "cell_type": "markdown",
   "id": "ff908398-bf9c-4adf-a722-517a19851889",
   "metadata": {},
   "source": [
    "Set idents to clusters"
   ]
  },
  {
   "cell_type": "code",
   "execution_count": 5,
   "id": "919b9eda-443a-4521-8f2e-d2959ef9d1b3",
   "metadata": {
    "vscode": {
     "languageId": "r"
    }
   },
   "outputs": [],
   "source": [
    "Idents(embryo_d5) <- \"seurat_clusters\"\n",
    "Idents(embryo_d7) <- \"seurat_clusters\"\n",
    "Idents(embryo_d9) <- \"seurat_clusters\"\n",
    "Idents(embryo_d11) <- \"seurat_clusters\""
   ]
  },
  {
   "cell_type": "markdown",
   "id": "aeb95e28-de6e-4e78-8486-caf57c759310",
   "metadata": {},
   "source": [
    "Plots number of transcripts"
   ]
  },
  {
   "cell_type": "code",
   "execution_count": 8,
   "id": "326c29cf-4699-4452-92e8-ea86691ae19e",
   "metadata": {
    "vscode": {
     "languageId": "r"
    }
   },
   "outputs": [],
   "source": [
    "plot_umap_by_nCount_d5 <- bind_cols(embryo_d5@meta.data, as.data.frame(embryo_d5@reductions$umap@cell.embeddings)) %>%\n",
    "  ggplot(aes(UMAP_1, UMAP_2, color = nCount_RNA)) +\n",
    "  geom_point(size = 2) +\n",
    "  theme_bw() +\n",
    "  scale_color_viridis(\n",
    "    guide = guide_coloursteps(frame.colour = 'black', ticks.colour = 'black', show.limits = TRUE),\n",
    "    labels = scales::comma,\n",
    "  ) +\n",
    "  labs(color = 'Number of\\ntranscripts') +\n",
    "  theme(legend.position = 'left',legend.title = element_text(size = 20),legend.text = element_text(size = 20), legend.key.size = unit(0.35, \"inches\")) +\n",
    "  coord_fixed()\n",
    "\n",
    "plot_umap_by_nCount_d7 <- bind_cols(embryo_d7@meta.data, as.data.frame(embryo_d7@reductions$umap@cell.embeddings)) %>%\n",
    "  ggplot(aes(UMAP_1, UMAP_2, color = nCount_RNA)) +\n",
    "  geom_point(size = 2) +\n",
    "  theme_bw() +\n",
    "  scale_color_viridis(\n",
    "    guide = guide_coloursteps(frame.colour = 'black', ticks.colour = 'black', show.limits = TRUE),\n",
    "    labels = scales::comma,\n",
    "  ) +\n",
    "  labs(color = 'Number of\\ntranscripts') +\n",
    "  theme(legend.position = 'left',legend.title = element_text(size = 20),legend.text = element_text(size = 20), legend.key.size = unit(0.35, \"inches\")) +\n",
    "  coord_fixed()\n",
    "\n",
    "plot_umap_by_nCount_d9 <- bind_cols(embryo_d9@meta.data, as.data.frame(embryo_d9@reductions$umap@cell.embeddings)) %>%\n",
    "  ggplot(aes(UMAP_1, UMAP_2, color = nCount_RNA)) +\n",
    "  geom_point(size = 2) +\n",
    "  theme_bw() +\n",
    "  scale_color_viridis(\n",
    "    guide = guide_coloursteps(frame.colour = 'black', ticks.colour = 'black', show.limits = TRUE),\n",
    "    labels = scales::comma,\n",
    "  ) +\n",
    "  labs(color = 'Number of\\ntranscripts') +\n",
    "  theme(legend.position = 'left',legend.title = element_text(size = 20),legend.text = element_text(size = 20), legend.key.size = unit(0.35, \"inches\")) +\n",
    "  coord_fixed()\n",
    "\n",
    "plot_umap_by_nCount_d11 <- bind_cols(embryo_d11@meta.data, as.data.frame(embryo_d11@reductions$umap@cell.embeddings)) %>%\n",
    "  ggplot(aes(UMAP_1, UMAP_2, color = nCount_RNA)) +\n",
    "  geom_point(size = 2) +\n",
    "  theme_bw() +\n",
    "  scale_color_viridis(\n",
    "    guide = guide_coloursteps(frame.colour = 'black', ticks.colour = 'black', show.limits = TRUE),\n",
    "    labels = scales::comma,\n",
    "  ) +\n",
    "  labs(color = 'Number of\\ntranscripts') +\n",
    "  theme(legend.position = 'left',legend.title = element_text(size = 20),legend.text = element_text(size = 20), legend.key.size = unit(0.35, \"inches\")) +\n",
    "  coord_fixed()"
   ]
  },
  {
   "cell_type": "markdown",
   "id": "e0c70387-be57-4356-bd68-19098759e4bd",
   "metadata": {},
   "source": [
    "Plots the samples"
   ]
  },
  {
   "cell_type": "code",
   "execution_count": 9,
   "id": "53236890-b973-449c-81bb-d3a0497528cf",
   "metadata": {
    "vscode": {
     "languageId": "r"
    }
   },
   "outputs": [],
   "source": [
    "plot_umap_by_sample_d5 <- bind_cols(embryo_d5@meta.data, as.data.frame(embryo_d5@reductions$umap@cell.embeddings)) %>%\n",
    "  ggplot(aes(UMAP_1, UMAP_2, color = SAMP)) +\n",
    "  geom_point(size = 2) +\n",
    "  theme_bw() +\n",
    "  scale_color_manual(values = custom_colors$discrete) +\n",
    "  labs(color = 'Samples') +\n",
    "  guides(colour = guide_legend(override.aes = list(size = 6))) +\n",
    "  theme(legend.position = 'right',legend.title = element_text(size = 20),legend.text = element_text(size = 20), legend.key.height=unit(3,\"line\")) +\n",
    "  coord_fixed()\n",
    "\n",
    "plot_umap_by_sample_d7 <- bind_cols(embryo_d7@meta.data, as.data.frame(embryo_d7@reductions$umap@cell.embeddings)) %>%\n",
    "  ggplot(aes(UMAP_1, UMAP_2, color = SAMP)) +\n",
    "  geom_point(size = 2) +\n",
    "  theme_bw() +\n",
    "  scale_color_manual(values = custom_colors$discrete) +\n",
    "  labs(color = 'Samples') +\n",
    "  guides(colour = guide_legend(override.aes = list(size = 6))) +\n",
    "  theme(legend.position = 'right',legend.title = element_text(size = 20),legend.text = element_text(size = 20), legend.key.height=unit(3,\"line\")) +\n",
    "  coord_fixed()\n",
    "\n",
    "plot_umap_by_sample_d9 <- bind_cols(embryo_d9@meta.data, as.data.frame(embryo_d9@reductions$umap@cell.embeddings)) %>%\n",
    "  ggplot(aes(UMAP_1, UMAP_2, color = SAMP)) +\n",
    "  geom_point(size = 2) +\n",
    "  theme_bw() +\n",
    "  scale_color_manual(values = custom_colors$discrete) +\n",
    "  labs(color = 'Samples') +\n",
    "  guides(colour = guide_legend(override.aes = list(size = 6))) +\n",
    "  theme(legend.position = 'right',legend.title = element_text(size = 20),legend.text = element_text(size = 20), legend.key.height=unit(3,\"line\")) +\n",
    "  coord_fixed()\n",
    "\n",
    "plot_umap_by_sample_d11 <- bind_cols(embryo_d11@meta.data, as.data.frame(embryo_d11@reductions$umap@cell.embeddings)) %>%\n",
    "  ggplot(aes(UMAP_1, UMAP_2, color = SAMP)) +\n",
    "  geom_point(size = 2) +\n",
    "  theme_bw() +\n",
    "  scale_color_manual(values = custom_colors$discrete) +\n",
    "  labs(color = 'Samples') +\n",
    "  guides(colour = guide_legend(override.aes = list(size = 6))) +\n",
    "  theme(legend.position = 'right',legend.title = element_text(size = 20),legend.text = element_text(size = 20), legend.key.height=unit(3,\"line\")) +\n",
    "  coord_fixed()"
   ]
  },
  {
   "cell_type": "markdown",
   "id": "7f6ba6ae-a3cc-4bc1-82ed-7b888240f59d",
   "metadata": {},
   "source": [
    "Plots the cell cycles"
   ]
  },
  {
   "cell_type": "code",
   "execution_count": 10,
   "id": "a7d4175b-f361-4956-9c5c-96212fb8a5ff",
   "metadata": {
    "vscode": {
     "languageId": "r"
    }
   },
   "outputs": [],
   "source": [
    "plot_umap_by_cell_cycle_d5 <- bind_cols(embryo_d5@meta.data, as.data.frame(embryo_d5@reductions$umap@cell.embeddings)) %>%\n",
    "  ggplot(aes(UMAP_1, UMAP_2, color = Phase)) +\n",
    "  geom_point(size = 2, show.legend = FALSE) +\n",
    "  theme_bw() +\n",
    "  scale_color_manual(values = custom_colors$cell_cycle) +\n",
    "  labs(color = 'Cell cycle') +\n",
    "  guides(colour = guide_legend(override.aes = list(size = 6))) +\n",
    "  coord_fixed()\n",
    "\n",
    "plot_umap_by_cell_cycle_d7 <- bind_cols(embryo_d7@meta.data, as.data.frame(embryo_d7@reductions$umap@cell.embeddings)) %>%\n",
    "  ggplot(aes(UMAP_1, UMAP_2, color = Phase)) +\n",
    "  geom_point(size = 2, show.legend = FALSE) +\n",
    "  theme_bw() +\n",
    "  scale_color_manual(values = custom_colors$cell_cycle) +\n",
    "  labs(color = 'Cell cycle') +\n",
    "  guides(colour = guide_legend(override.aes = list(size = 6))) +\n",
    "  coord_fixed()\n",
    "\n",
    "plot_umap_by_cell_cycle_d9 <- bind_cols(embryo_d9@meta.data, as.data.frame(embryo_d9@reductions$umap@cell.embeddings)) %>%\n",
    "  ggplot(aes(UMAP_1, UMAP_2, color = Phase)) +\n",
    "  geom_point(size = 2, show.legend = FALSE) +\n",
    "  theme_bw() +\n",
    "  scale_color_manual(values = custom_colors$cell_cycle) +\n",
    "  labs(color = 'Cell cycle') +\n",
    "  guides(colour = guide_legend(override.aes = list(size = 6))) +\n",
    "  coord_fixed()\n",
    "\n",
    "plot_umap_by_cell_cycle_d11 <- bind_cols(embryo_d11@meta.data, as.data.frame(embryo_d11@reductions$umap@cell.embeddings)) %>%\n",
    "  ggplot(aes(UMAP_1, UMAP_2, color = Phase)) +\n",
    "  geom_point(size = 2, show.legend = FALSE) +\n",
    "  theme_bw() +\n",
    "  scale_color_manual(values = custom_colors$cell_cycle) +\n",
    "  labs(color = 'Cell cycle') +\n",
    "  guides(colour = guide_legend(override.aes = list(size = 6))) +\n",
    "  coord_fixed()"
   ]
  },
  {
   "cell_type": "markdown",
   "id": "022097b7-39f8-493c-98fc-b8fa436dc5b4",
   "metadata": {},
   "source": [
    "Save plots"
   ]
  },
  {
   "cell_type": "code",
   "execution_count": 13,
   "id": "39f2a927-6883-498a-8621-32cdb5243cf4",
   "metadata": {
    "vscode": {
     "languageId": "r"
    }
   },
   "outputs": [],
   "source": [
    "ggsave(\n",
    "  '/home/adufour/work/notebook/plots/supp_quality_metrics.png',\n",
    "  plot_umap_by_nCount_d5 + plot_umap_by_cell_cycle_d5 + plot_umap_by_sample_d5 +\n",
    "  plot_umap_by_nCount_d7 + plot_umap_by_cell_cycle_d7 + plot_umap_by_sample_d7 +\n",
    "  plot_umap_by_nCount_d9 + plot_umap_by_cell_cycle_d9 + plot_umap_by_sample_d9 +\n",
    "  plot_umap_by_nCount_d11 + plot_umap_by_cell_cycle_d11 + plot_umap_by_sample_d11 +\n",
    "  plot_layout(ncol = 3),\n",
    "  height = 28,\n",
    "  width = 24.5\n",
    ")"
   ]
  }
 ],
 "metadata": {
  "kernelspec": {
   "display_name": "R",
   "language": "R",
   "name": "ir"
  },
  "language_info": {
   "codemirror_mode": "r",
   "file_extension": ".r",
   "mimetype": "text/x-r-source",
   "name": "R",
   "pygments_lexer": "r",
   "version": "4.1.1"
  }
 },
 "nbformat": 4,
 "nbformat_minor": 5
}

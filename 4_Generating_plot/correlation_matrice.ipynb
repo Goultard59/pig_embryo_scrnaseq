{
 "cells": [
  {
   "cell_type": "markdown",
   "id": "a0b18231-6a58-492f-ba40-767ba8a3e722",
   "metadata": {},
   "source": [
    "## Generating correlation matrice for supplementary figure 1"
   ]
  },
  {
   "cell_type": "markdown",
   "id": "0d92be4f-5104-4184-a4fe-9e157b72e230",
   "metadata": {},
   "source": [
    "package loading"
   ]
  },
  {
   "cell_type": "code",
   "execution_count": 1,
   "id": "7e8e3ad5-a1f5-43a5-94b6-e82bc8e5f25c",
   "metadata": {},
   "outputs": [
    {
     "name": "stderr",
     "output_type": "stream",
     "text": [
      "Warning message:\n",
      "“le package ‘Seurat’ a été compilé avec la version R 4.1.2”\n",
      "Attaching SeuratObject\n",
      "\n",
      "Le chargement a nécessité le package : SingleCellExperiment\n",
      "\n",
      "Le chargement a nécessité le package : SummarizedExperiment\n",
      "\n",
      "Le chargement a nécessité le package : MatrixGenerics\n",
      "\n",
      "Le chargement a nécessité le package : matrixStats\n",
      "\n",
      "\n",
      "Attachement du package : ‘MatrixGenerics’\n",
      "\n",
      "\n",
      "Les objets suivants sont masqués depuis ‘package:matrixStats’:\n",
      "\n",
      "    colAlls, colAnyNAs, colAnys, colAvgsPerRowSet, colCollapse,\n",
      "    colCounts, colCummaxs, colCummins, colCumprods, colCumsums,\n",
      "    colDiffs, colIQRDiffs, colIQRs, colLogSumExps, colMadDiffs,\n",
      "    colMads, colMaxs, colMeans2, colMedians, colMins, colOrderStats,\n",
      "    colProds, colQuantiles, colRanges, colRanks, colSdDiffs, colSds,\n",
      "    colSums2, colTabulates, colVarDiffs, colVars, colWeightedMads,\n",
      "    colWeightedMeans, colWeightedMedians, colWeightedSds,\n",
      "    colWeightedVars, rowAlls, rowAnyNAs, rowAnys, rowAvgsPerColSet,\n",
      "    rowCollapse, rowCounts, rowCummaxs, rowCummins, rowCumprods,\n",
      "    rowCumsums, rowDiffs, rowIQRDiffs, rowIQRs, rowLogSumExps,\n",
      "    rowMadDiffs, rowMads, rowMaxs, rowMeans2, rowMedians, rowMins,\n",
      "    rowOrderStats, rowProds, rowQuantiles, rowRanges, rowRanks,\n",
      "    rowSdDiffs, rowSds, rowSums2, rowTabulates, rowVarDiffs, rowVars,\n",
      "    rowWeightedMads, rowWeightedMeans, rowWeightedMedians,\n",
      "    rowWeightedSds, rowWeightedVars\n",
      "\n",
      "\n",
      "Le chargement a nécessité le package : GenomicRanges\n",
      "\n",
      "Le chargement a nécessité le package : stats4\n",
      "\n",
      "Le chargement a nécessité le package : BiocGenerics\n",
      "\n",
      "Le chargement a nécessité le package : parallel\n",
      "\n",
      "\n",
      "Attachement du package : ‘BiocGenerics’\n",
      "\n",
      "\n",
      "Les objets suivants sont masqués depuis ‘package:parallel’:\n",
      "\n",
      "    clusterApply, clusterApplyLB, clusterCall, clusterEvalQ,\n",
      "    clusterExport, clusterMap, parApply, parCapply, parLapply,\n",
      "    parLapplyLB, parRapply, parSapply, parSapplyLB\n",
      "\n",
      "\n",
      "Les objets suivants sont masqués depuis ‘package:stats’:\n",
      "\n",
      "    IQR, mad, sd, var, xtabs\n",
      "\n",
      "\n",
      "Les objets suivants sont masqués depuis ‘package:base’:\n",
      "\n",
      "    anyDuplicated, append, as.data.frame, basename, cbind, colnames,\n",
      "    dirname, do.call, duplicated, eval, evalq, Filter, Find, get, grep,\n",
      "    grepl, intersect, is.unsorted, lapply, Map, mapply, match, mget,\n",
      "    order, paste, pmax, pmax.int, pmin, pmin.int, Position, rank,\n",
      "    rbind, Reduce, rownames, sapply, setdiff, sort, table, tapply,\n",
      "    union, unique, unsplit, which.max, which.min\n",
      "\n",
      "\n",
      "Le chargement a nécessité le package : S4Vectors\n",
      "\n",
      "\n",
      "Attachement du package : ‘S4Vectors’\n",
      "\n",
      "\n",
      "Les objets suivants sont masqués depuis ‘package:base’:\n",
      "\n",
      "    expand.grid, I, unname\n",
      "\n",
      "\n",
      "Le chargement a nécessité le package : IRanges\n",
      "\n",
      "Le chargement a nécessité le package : GenomeInfoDb\n",
      "\n",
      "Le chargement a nécessité le package : Biobase\n",
      "\n",
      "Welcome to Bioconductor\n",
      "\n",
      "    Vignettes contain introductory material; view with\n",
      "    'browseVignettes()'. To cite Bioconductor, see\n",
      "    'citation(\"Biobase\")', and for packages 'citation(\"pkgname\")'.\n",
      "\n",
      "\n",
      "\n",
      "Attachement du package : ‘Biobase’\n",
      "\n",
      "\n",
      "L'objet suivant est masqué depuis ‘package:MatrixGenerics’:\n",
      "\n",
      "    rowMedians\n",
      "\n",
      "\n",
      "Les objets suivants sont masqués depuis ‘package:matrixStats’:\n",
      "\n",
      "    anyMissing, rowMedians\n",
      "\n",
      "\n",
      "\n",
      "Attachement du package : ‘SummarizedExperiment’\n",
      "\n",
      "\n",
      "L'objet suivant est masqué depuis ‘package:SeuratObject’:\n",
      "\n",
      "    Assays\n",
      "\n",
      "\n",
      "L'objet suivant est masqué depuis ‘package:Seurat’:\n",
      "\n",
      "    Assays\n",
      "\n",
      "\n",
      "Le chargement a nécessité le package : scuttle\n",
      "\n",
      "Warning message:\n",
      "“le package ‘dplyr’ a été compilé avec la version R 4.1.2”\n",
      "\n",
      "Attachement du package : ‘dplyr’\n",
      "\n",
      "\n",
      "L'objet suivant est masqué depuis ‘package:Biobase’:\n",
      "\n",
      "    combine\n",
      "\n",
      "\n",
      "Les objets suivants sont masqués depuis ‘package:GenomicRanges’:\n",
      "\n",
      "    intersect, setdiff, union\n",
      "\n",
      "\n",
      "L'objet suivant est masqué depuis ‘package:GenomeInfoDb’:\n",
      "\n",
      "    intersect\n",
      "\n",
      "\n",
      "Les objets suivants sont masqués depuis ‘package:IRanges’:\n",
      "\n",
      "    collapse, desc, intersect, setdiff, slice, union\n",
      "\n",
      "\n",
      "Les objets suivants sont masqués depuis ‘package:S4Vectors’:\n",
      "\n",
      "    first, intersect, rename, setdiff, setequal, union\n",
      "\n",
      "\n",
      "Les objets suivants sont masqués depuis ‘package:BiocGenerics’:\n",
      "\n",
      "    combine, intersect, setdiff, union\n",
      "\n",
      "\n",
      "L'objet suivant est masqué depuis ‘package:matrixStats’:\n",
      "\n",
      "    count\n",
      "\n",
      "\n",
      "Les objets suivants sont masqués depuis ‘package:stats’:\n",
      "\n",
      "    filter, lag\n",
      "\n",
      "\n",
      "Les objets suivants sont masqués depuis ‘package:base’:\n",
      "\n",
      "    intersect, setdiff, setequal, union\n",
      "\n",
      "\n",
      "Warning message:\n",
      "“le package ‘tidyr’ a été compilé avec la version R 4.1.2”\n",
      "\n",
      "Attachement du package : ‘tidyr’\n",
      "\n",
      "\n",
      "L'objet suivant est masqué depuis ‘package:S4Vectors’:\n",
      "\n",
      "    expand\n",
      "\n",
      "\n"
     ]
    }
   ],
   "source": [
    "library(Seurat)\n",
    "library(scran)\n",
    "library(bluster)\n",
    "library(dplyr)\n",
    "library(tidyr)\n",
    "library(tibble)\n",
    "library(ggplot2)"
   ]
  },
  {
   "cell_type": "markdown",
   "id": "c1959e06-d035-4899-9e57-0e0eddc09227",
   "metadata": {},
   "source": [
    "Loading the Seurat object"
   ]
  },
  {
   "cell_type": "code",
   "execution_count": 2,
   "id": "79b9e27d-bd74-46d2-b2e3-7cf7933d17c4",
   "metadata": {},
   "outputs": [],
   "source": [
    "embryo <- readRDS(\"/home/adufour/work/rds_storage/embryo_all_states.rds\")"
   ]
  },
  {
   "cell_type": "markdown",
   "id": "414c0768-d89a-42bf-a0b1-321aa9d7ce32",
   "metadata": {},
   "source": [
    "Calculate PCA for all cells"
   ]
  },
  {
   "cell_type": "code",
   "execution_count": 3,
   "id": "d1dd5747-32c7-4cea-8293-6872826b6562",
   "metadata": {},
   "outputs": [
    {
     "name": "stderr",
     "output_type": "stream",
     "text": [
      "Centering and scaling data matrix\n",
      "\n"
     ]
    }
   ],
   "source": [
    "embryo <- NormalizeData(embryo) %>% FindVariableFeatures() %>% ScaleData() %>% RunPCA(verbose = FALSE)"
   ]
  },
  {
   "cell_type": "code",
   "execution_count": 4,
   "id": "1dfceda8-7fee-49af-bc82-3458ca0723c8",
   "metadata": {},
   "outputs": [],
   "source": [
    "embryo@meta.data$time_cell_type <- paste0(embryo@meta.data$TIME, \"_\", embryo@meta.data$cell_type)"
   ]
  },
  {
   "cell_type": "markdown",
   "id": "94062d4d-a696-42f0-962a-fa02f0883eef",
   "metadata": {},
   "source": [
    "Rename labels for plotting"
   ]
  },
  {
   "cell_type": "code",
   "execution_count": 5,
   "id": "e677da68-ece7-41c9-936d-1891714ee384",
   "metadata": {},
   "outputs": [],
   "source": [
    "embryo@meta.data$time_cell_type[embryo@meta.data$time_cell_type == \"J5_ICM\"] <- \"D5 Inner Cell Mass\"\n",
    "embryo@meta.data$time_cell_type[embryo@meta.data$time_cell_type == \"J5_Trophectoderme\"] <- \"D5 Trophectoderm\"\n",
    "embryo@meta.data$time_cell_type[embryo@meta.data$time_cell_type == \"J7_Epiblaste\"] <- \"D7 Epiblast\"\n",
    "embryo@meta.data$time_cell_type[embryo@meta.data$time_cell_type == \"J9_Epiblaste\"] <- \"D9 Epiblast\"\n",
    "embryo@meta.data$time_cell_type[embryo@meta.data$time_cell_type == \"J11_Epiblaste\"] <- \"D11 Epiblast\"\n",
    "embryo@meta.data$time_cell_type[embryo@meta.data$time_cell_type == \"J7_Trophectoderme\"] <- \"D7 Trophectoderm\"\n",
    "embryo@meta.data$time_cell_type[embryo@meta.data$time_cell_type == \"J9_Trophectoderme\"] <- \"D9 Trophectoderm A\"\n",
    "embryo@meta.data$time_cell_type[embryo@meta.data$time_cell_type == \"J9_Trophectoderme ?\"] <- \"D9 Trophectoderm B\"\n",
    "embryo@meta.data$time_cell_type[embryo@meta.data$time_cell_type == \"J11_Trophectoderme 1\"] <- \"D11 Trophectoderm A\"\n",
    "embryo@meta.data$time_cell_type[embryo@meta.data$time_cell_type == \"J11_Trophectoderme 2\"] <- \"D11 Trophectoderm B\"\n",
    "embryo@meta.data$time_cell_type[embryo@meta.data$time_cell_type == \"J11_Trophectoderme 3\"] <- \"D11 Trophectoderm C\"\n",
    "embryo@meta.data$time_cell_type[embryo@meta.data$time_cell_type == \"J7_Endoderme\"] <- \"D7 Hypoblast\"\n",
    "embryo@meta.data$time_cell_type[embryo@meta.data$time_cell_type == \"J9_Endoderme\"] <- \"D9 Hypoblast\"\n",
    "embryo@meta.data$time_cell_type[embryo@meta.data$time_cell_type == \"J11_Endoderme 1\"] <- \"D11 Hypoblast A\"\n",
    "embryo@meta.data$time_cell_type[embryo@meta.data$time_cell_type == \"J11_Endoderme 2\"] <- \"D11 Hypoblast B\"\n",
    "embryo@meta.data$time_cell_type[embryo@meta.data$time_cell_type == \"J11_Endoderme 3\"] <- \"D11 Hypoblast C\"\n",
    "embryo@meta.data$time_cell_type[embryo@meta.data$time_cell_type == \"J11_Mesendoderme\"] <- \"D11 Mesendoderm\""
   ]
  },
  {
   "cell_type": "markdown",
   "id": "aec5c4fe-5cf9-4d33-90c4-1d5a1ac4e23e",
   "metadata": {},
   "source": [
    "Set order for plotting"
   ]
  },
  {
   "cell_type": "code",
   "execution_count": 6,
   "id": "fcc7d6a0-a60c-4f2e-bcca-43a27b2154f5",
   "metadata": {},
   "outputs": [],
   "source": [
    "embryo$order <- factor(embryo$time_cell_type, levels = c(\"D5 Inner Cell Mass\", \"D5 Trophectoderm\", \"D7 Epiblast\", \"D7 Trophectoderm\", \"D7 Hypoblast\",\n",
    "                                                                              \"D9 Epiblast\", \"D9 Trophectoderm A\", \"D9 Trophectoderm B\", \"D9 Hypoblast\", \n",
    "                                                                              \"D11 Epiblast\", \"D11 Trophectoderm A\", \"D11 Trophectoderm B\",  \"D11 Trophectoderm C\",\n",
    "                                                                               \"D11 Hypoblast A\", \"D11 Hypoblast B\", \"D11 Hypoblast C\", \"D11 Mesendoderm\"),ordered = TRUE)"
   ]
  },
  {
   "cell_type": "markdown",
   "id": "1ab37c6f-6dbc-43d9-aa8c-be3939980524",
   "metadata": {},
   "source": [
    "convert to singlecellexperiment format"
   ]
  },
  {
   "cell_type": "code",
   "execution_count": 7,
   "id": "d615a9b3-8d0e-47a3-9db4-e761c8a175d6",
   "metadata": {},
   "outputs": [],
   "source": [
    "sce <- as.SingleCellExperiment(embryo)\n",
    "reducedDim(sce, 'PCA_sub') <- reducedDim(sce, 'PCA')[,1:25, drop = FALSE]"
   ]
  },
  {
   "cell_type": "markdown",
   "id": "81f6f900-bc71-4bb6-bbbd-759008a51acf",
   "metadata": {},
   "source": [
    "Calculate scran similarity"
   ]
  },
  {
   "cell_type": "code",
   "execution_count": 8,
   "id": "5dc36b4a-a362-461a-a351-002c909b5fdc",
   "metadata": {},
   "outputs": [],
   "source": [
    "g <- scran::buildSNNGraph(sce, use.dimred = 'PCA_sub')\n",
    "ratio <- bluster::pairwiseModularity(g, embryo@meta.data$order, as.ratio = TRUE)\n",
    "ratio_to_plot <- log10(ratio+1)"
   ]
  },
  {
   "cell_type": "markdown",
   "id": "98834437-434b-40f8-93db-1e603066b384",
   "metadata": {},
   "source": [
    "Plotting"
   ]
  },
  {
   "cell_type": "code",
   "execution_count": 9,
   "id": "1c9d5453-9584-4de0-867c-316563da00fa",
   "metadata": {},
   "outputs": [
    {
     "name": "stderr",
     "output_type": "stream",
     "text": [
      "Warning message:\n",
      "“Removed 136 rows containing missing values (geom_text).”\n"
     ]
    }
   ],
   "source": [
    "plots <- ratio_to_plot %>%\n",
    "  as_tibble(rownames = NA) %>%\n",
    "  rownames_to_column(var = 'cluster_1') %>%\n",
    "  pivot_longer(\n",
    "    cols = 2:ncol(.),\n",
    "    names_to = 'cluster_2',\n",
    "    values_to = 'probability'\n",
    "  ) %>%\n",
    "  mutate(\n",
    "    cluster_1 = as.character(cluster_1),\n",
    "    cluster_1 = factor(cluster_1, levels = rev(unique(cluster_1))),\n",
    "    cluster_2 = factor(cluster_2, levels = unique(cluster_2))\n",
    "  ) %>%\n",
    "  ggplot(aes(cluster_2, cluster_1, fill = probability)) +\n",
    "  geom_tile(color = 'white') +\n",
    "  geom_text(aes(label = round(probability, digits = 2)), size = 7.5) +\n",
    "  scale_x_discrete(name = 'Cluster', position = 'top') +\n",
    "  scale_y_discrete(name = 'Cluster') +\n",
    "  scale_fill_gradient(\n",
    "    name = 'log10(ratio)', low = 'white', high = '#c0392b', na.value = '#bdc3c7',\n",
    "    guide = guide_colorbar(\n",
    "      frame.colour = 'black', ticks.colour = 'black', title.position = 'left',\n",
    "      title.theme = element_text(size = 24, hjust = 1, angle = 90),\n",
    "      label.theme = element_text(size = 18), barwidth = 0.75, barheight = 10\n",
    "    )\n",
    "  ) +\n",
    "  coord_fixed() +\n",
    "  theme_bw() +\n",
    "  theme(\n",
    "    axis.text.x = element_text(size = 24, angle = 90, hjust = 0),\n",
    "    axis.text.y = element_text(size = 24),\n",
    "    legend.position = 'right',\n",
    "    panel.grid.major = element_blank()\n",
    "  )\n",
    "\n",
    "ggsave('/home/adufour/work/notebook/plots/cluster_similarity.png', height = 16, width = 17)"
   ]
  }
 ],
 "metadata": {
  "kernelspec": {
   "display_name": "R",
   "language": "R",
   "name": "ir"
  },
  "language_info": {
   "codemirror_mode": "r",
   "file_extension": ".r",
   "mimetype": "text/x-r-source",
   "name": "R",
   "pygments_lexer": "r",
   "version": "4.1.1"
  }
 },
 "nbformat": 4,
 "nbformat_minor": 5
}

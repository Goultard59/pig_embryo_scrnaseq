{
 "cells": [
  {
   "cell_type": "code",
   "execution_count": 1,
   "id": "4c6b6d0d-3f5e-44b1-a4ea-b45331cb89ea",
   "metadata": {},
   "outputs": [
    {
     "name": "stderr",
     "output_type": "stream",
     "text": [
      "── \u001b[1mAttaching packages\u001b[22m ────────────────────────────────────────────────────────────────────────────────────────────────────────────────────────────────────────────────────────────────── tidyverse 1.3.2 ──\n",
      "\u001b[32m✔\u001b[39m \u001b[34mggplot2\u001b[39m 3.4.0     \u001b[32m✔\u001b[39m \u001b[34mpurrr  \u001b[39m 1.0.1\n",
      "\u001b[32m✔\u001b[39m \u001b[34mtibble \u001b[39m 3.1.8     \u001b[32m✔\u001b[39m \u001b[34mdplyr  \u001b[39m 1.1.0\n",
      "\u001b[32m✔\u001b[39m \u001b[34mtidyr  \u001b[39m 1.3.0     \u001b[32m✔\u001b[39m \u001b[34mstringr\u001b[39m 1.5.0\n",
      "\u001b[32m✔\u001b[39m \u001b[34mreadr  \u001b[39m 2.1.3     \u001b[32m✔\u001b[39m \u001b[34mforcats\u001b[39m 1.0.0\n",
      "── \u001b[1mConflicts\u001b[22m ───────────────────────────────────────────────────────────────────────────────────────────────────────────────────────────────────────────────────────────────────── tidyverse_conflicts() ──\n",
      "\u001b[31m✖\u001b[39m \u001b[34mdplyr\u001b[39m::\u001b[32mfilter()\u001b[39m masks \u001b[34mstats\u001b[39m::filter()\n",
      "\u001b[31m✖\u001b[39m \u001b[34mdplyr\u001b[39m::\u001b[32mlag()\u001b[39m    masks \u001b[34mstats\u001b[39m::lag()\n"
     ]
    }
   ],
   "source": [
    "library(tidyverse)\n",
    "library(stringr)"
   ]
  },
  {
   "cell_type": "code",
   "execution_count": 2,
   "id": "647ac829-309f-46e0-97bb-a849d6a01e60",
   "metadata": {},
   "outputs": [],
   "source": [
    "proteomics_matrix <- read.table(\"/home/adufour/work/proteomics/matrix_12_01_23.txt\", sep = '\\t',header = TRUE)"
   ]
  },
  {
   "cell_type": "code",
   "execution_count": 3,
   "id": "bb97adec-7518-4e64-b5b3-8e0e76b32b2b",
   "metadata": {},
   "outputs": [],
   "source": [
    "ref_seq <- read.table(\"/home/adufour/work/proteomics/ref_seq_conv.txt\", sep = '\\t',header = TRUE)"
   ]
  },
  {
   "cell_type": "code",
   "execution_count": 4,
   "id": "03201b5f-8418-43ae-94d1-6ed322b28d4d",
   "metadata": {},
   "outputs": [],
   "source": [
    "subs <- setNames(ref_seq$Gene.Symbol, ref_seq$RefSeq.Protein.Accession)"
   ]
  },
  {
   "cell_type": "code",
   "execution_count": 5,
   "id": "67168d50-429d-44af-bd4a-55b918147bea",
   "metadata": {},
   "outputs": [
    {
     "ename": "ERROR",
     "evalue": "Error in df$Majority.protein.IDs: objet de type 'closure' non indiçable\n",
     "output_type": "error",
     "traceback": [
      "Error in df$Majority.protein.IDs: objet de type 'closure' non indiçable\nTraceback:\n",
      "1. sub(\"\\\\.1\", \"\", df$Majority.protein.IDs)",
      "2. is.factor(x)"
     ]
    }
   ],
   "source": [
    "proteomics_matrix$Majority.protein.IDs <- sub(\"\\\\.1\", \"\", df$Majority.protein.IDs)\n",
    "proteomics_matrix$Majority.protein.IDs <- sub(\"\\\\.2\", \"\", df$Majority.protein.IDs)\n",
    "proteomics_matrix$Majority.protein.IDs <- sub(\"\\\\.3\", \"\", df$Majority.protein.IDs)\n",
    "proteomics_matrix$Majority.protein.IDs <- sub(\"\\\\.4\", \"\", df$Majority.protein.IDs)\n",
    "proteomics_matrix$Majority.protein.IDs <- sub(\"\\\\.5\", \"\", df$Majority.protein.IDs)\n",
    "proteomics_matrix$Majority.protein.IDs <- sub(\"\\\\.6\", \"\", df$Majority.protein.IDs)"
   ]
  },
  {
   "cell_type": "code",
   "execution_count": null,
   "id": "98707b26-fcad-48bd-bc08-f8931afd6fa5",
   "metadata": {},
   "outputs": [],
   "source": [
    "proteomics_matrix$Majority.protein.IDs <- str_replace_all(proteomics_matrix$Majority.protein.IDs, subs)"
   ]
  },
  {
   "cell_type": "code",
   "execution_count": null,
   "id": "7162aa84-15cb-4f6e-a6fc-ae83e5373a94",
   "metadata": {},
   "outputs": [],
   "source": [
    "proteomics_matrix$Majority.protein.IDs <- sub(\";.*\", \"\",proteomics_matrix$Majority.protein.IDs) "
   ]
  },
  {
   "cell_type": "code",
   "execution_count": null,
   "id": "90e71e77-bcf9-4c34-b2fb-53b61e94b900",
   "metadata": {},
   "outputs": [],
   "source": [
    "proteomics_matrix[\"Majority.protein.IDs\"][proteomics_matrix[\"Majority.protein.IDs\"] == \"LOC100521789\"] <- \"AMY2\"\n",
    "proteomics_matrix[\"Majority.protein.IDs\"][proteomics_matrix[\"Majority.protein.IDs\"] == \"ARF3\"] <- \"ARF1\"\n",
    "proteomics_matrix[\"Majority.protein.IDs\"][proteomics_matrix[\"Majority.protein.IDs\"] == \"LOC110259139\"] <- \"PCDHA11\""
   ]
  },
  {
   "cell_type": "code",
   "execution_count": null,
   "id": "25e5bec6-53f4-4b96-9a39-7a1413435d91",
   "metadata": {},
   "outputs": [],
   "source": [
    "proteomics_table <- proteomics_matrix[,c('LFQ.intensity.1384_D5.1', 'LFQ.intensity.1844_D4.1', 'LFQ.intensity.1982_D5.1', 'LFQ.intensity.2044_D5.1', 'LFQ.intensity.2048_D4.1', 'LFQ.intensity.2195_D4.1', 'LFQ.intensity.2248_D4.1', 'LFQ.intensity.2292_D5.1', 'LFQ.intensity.2548_D11.1', 'LFQ.intensity.4086_D11.1', 'LFQ.intensity.4088_D9.1', 'LFQ.intensity.4181_D7.1', 'LFQ.intensity.4182_D7.1', 'LFQ.intensity.4221_D11.2', 'LFQ.intensity.4239_D7.1', 'LFQ.intensity.4278_D10.1', 'LFQ.intensity.4290_D7.1', 'LFQ.intensity.4300_D10.1')]"
   ]
  },
  {
   "cell_type": "code",
   "execution_count": null,
   "id": "9751325f-6840-458e-a37a-bf7b60538a6f",
   "metadata": {},
   "outputs": [],
   "source": [
    "rownames(proteomics_table) <- df$Majority.protein.IDs"
   ]
  },
  {
   "cell_type": "code",
   "execution_count": null,
   "id": "5ae9ba7b-8603-4716-b18a-761b0d3f3200",
   "metadata": {},
   "outputs": [],
   "source": [
    "colnames(proteomics_table) <- c('E5.1', 'D5.5', 'D5.2', 'D5.3', 'D5.6',\n",
    "                         'D5.7', 'D5.8', 'D5.4', 'D11.1', 'D11.2',\n",
    "                         'D9.1', 'D7.1', 'D7.2', 'D11.3', 'D7.3',\n",
    "                         'D9.2', 'D7.4', 'D9.3')"
   ]
  },
  {
   "cell_type": "code",
   "execution_count": null,
   "id": "e8ac0b94-20d1-48d2-952d-ed51964140ee",
   "metadata": {},
   "outputs": [],
   "source": [
    "differential_early_late <- read.csv(file = '/home/adufour/work/proteomics/de_early_late.csv', dec = \",\", sep = \";\")"
   ]
  },
  {
   "cell_type": "code",
   "execution_count": null,
   "id": "360ea7c2-1d20-4726-a739-50aa2cc33f16",
   "metadata": {},
   "outputs": [],
   "source": [
    "total <- merge(differential_early_late,df[,c(\"Majority.protein.IDs\", \"id\")],by=\"id\")"
   ]
  },
  {
   "cell_type": "code",
   "execution_count": null,
   "id": "850941d1-585f-4c3e-93d0-38f8f7e6b59e",
   "metadata": {},
   "outputs": [],
   "source": [
    "rownames(total) <- total$Majority.protein.IDs.y\n",
    "differential_early_late <- total[,c(\"Significant\", \"LOG.P.value.\", \"Difference\")]"
   ]
  },
  {
   "cell_type": "code",
   "execution_count": null,
   "id": "c7f425c6-32fd-43c5-bea7-99b01bff5774",
   "metadata": {},
   "outputs": [],
   "source": [
    "differential_early_late$categories <- \"\""
   ]
  },
  {
   "cell_type": "code",
   "execution_count": null,
   "id": "5a8b91a9-312b-4fb0-9048-05964839afe2",
   "metadata": {},
   "outputs": [],
   "source": [
    "differential_early_late[differential_early_late$Significant == \"+\" & differential_early_late$Difference < -1,]$categories <- \"Late\"\n",
    "differential_early_late[differential_early_late$Significant == \"+\" & differential_early_late$Difference > 1,]$categories <- \"Early\""
   ]
  },
  {
   "cell_type": "code",
   "execution_count": null,
   "id": "bb71257c-adf3-4b31-91bb-a50867d59a2e",
   "metadata": {},
   "outputs": [],
   "source": [
    "differential_early_late$label <- rownames(differential_early_late)"
   ]
  },
  {
   "cell_type": "code",
   "execution_count": null,
   "id": "b1ab02e5-18ad-4017-8f5f-25c3310a569a",
   "metadata": {},
   "outputs": [],
   "source": [
    "differential_early_late[differential_early_late$categories == \"\",]$label <- \"\""
   ]
  },
  {
   "cell_type": "code",
   "execution_count": null,
   "id": "e8904971-b026-4881-80c8-0473164851bb",
   "metadata": {},
   "outputs": [],
   "source": [
    "differential_order <- differential_early_late[order(differential_early_late$Difference),]"
   ]
  },
  {
   "cell_type": "code",
   "execution_count": null,
   "id": "284270f9-93c4-403e-a5f2-9b19fdb2ff5c",
   "metadata": {},
   "outputs": [],
   "source": [
    "differential_early_intermediate <- read.csv(file = '/home/adufour/work/proteomics/de_early_intermediate.csv', dec = \",\", sep = \";\")"
   ]
  },
  {
   "cell_type": "code",
   "execution_count": null,
   "id": "9c46d7fe-9dc7-4391-bbeb-c3d69bd0d20b",
   "metadata": {},
   "outputs": [],
   "source": [
    "total_early_intermediate <- merge(differential_early_intermediate,df[,c(\"Majority.protein.IDs\", \"id\")],by=\"id\")"
   ]
  },
  {
   "cell_type": "code",
   "execution_count": null,
   "id": "343e0ba0-6918-4eb4-8005-0844798bcb6d",
   "metadata": {},
   "outputs": [],
   "source": [
    "rownames(total_early_intermediate) <- total_early_intermediate$Majority.protein.IDs.y\n",
    "differential_early_intermediate <- total_early_intermediate[,c(\"Significant\", \"P.value\", \"Difference\")]"
   ]
  },
  {
   "cell_type": "code",
   "execution_count": null,
   "id": "74146306-7b56-403e-b958-ec2cdf7220e2",
   "metadata": {},
   "outputs": [],
   "source": [
    "differential_early_intermediate$categories <- \"\""
   ]
  },
  {
   "cell_type": "code",
   "execution_count": null,
   "id": "718bcb03-918b-40e8-b96d-7cbfc790b182",
   "metadata": {},
   "outputs": [],
   "source": [
    "differential_early_intermediate[differential_early_intermediate$Significant == \"+\" & differential_early_intermediate$Difference < -1,]$categories <- \"Intermediate\"\n",
    "differential_early_intermediate[differential_early_intermediate$Significant == \"+\" & differential_early_intermediate$Difference > 1,]$categories <- \"Early\""
   ]
  },
  {
   "cell_type": "code",
   "execution_count": null,
   "id": "13d081ec-8f74-4564-85e6-517bf9d71426",
   "metadata": {},
   "outputs": [],
   "source": [
    "differential_early_intermediate$label <- rownames(differential_early_intermediate)"
   ]
  },
  {
   "cell_type": "code",
   "execution_count": null,
   "id": "05d6dd02-26e8-4a93-95ae-c90fbcc5a89c",
   "metadata": {},
   "outputs": [],
   "source": [
    "differential_early_intermediate[differential_early_intermediate$categories == \"\",]$label <- \"\""
   ]
  },
  {
   "cell_type": "code",
   "execution_count": null,
   "id": "daab39c5-57e3-4156-b68d-7b7be6d98aed",
   "metadata": {},
   "outputs": [],
   "source": [
    "differential_order_early_intermediate <- differential_early_intermediate[order(differential_early_intermediate$Difference),]"
   ]
  },
  {
   "cell_type": "code",
   "execution_count": null,
   "id": "e5a24ce9-ba97-40ad-a85c-0704ad1cf5fc",
   "metadata": {},
   "outputs": [],
   "source": [
    "differential_intermediate_late <- read.csv(file = '/home/adufour/work/proteomics/de_intermediate_late.csv', dec = \",\", sep = \";\")"
   ]
  },
  {
   "cell_type": "code",
   "execution_count": null,
   "id": "2d5abfa3-3f2b-45c2-ba78-8700ecb3a2da",
   "metadata": {},
   "outputs": [],
   "source": [
    "total_intermediate_late <- merge(differential_intermediate_late,df[,c(\"Majority.protein.IDs\", \"id\")],by=\"id\")"
   ]
  },
  {
   "cell_type": "code",
   "execution_count": null,
   "id": "b8940a81-5842-48f7-b2e6-e4bf86c122de",
   "metadata": {},
   "outputs": [],
   "source": [
    "rownames(total_intermediate_late) <- total_intermediate_late$Majority.protein.IDs.y\n",
    "differential_intermediate_late <- total_intermediate_late[,c(\"Significant\", \"P.value\", \"Difference\")]"
   ]
  },
  {
   "cell_type": "code",
   "execution_count": null,
   "id": "0108c9e5-ece6-484b-8fbb-0af05857d55a",
   "metadata": {},
   "outputs": [],
   "source": [
    "differential_intermediate_late$categories <- \"\""
   ]
  },
  {
   "cell_type": "code",
   "execution_count": null,
   "id": "8033cdc2-8df7-4c5f-a108-df6c7e08444b",
   "metadata": {},
   "outputs": [],
   "source": [
    "differential_intermediate_late[differential_intermediate_late$Significant == \"+\" & differential_intermediate_late$Difference < -1,]$categories <- \"Late\"\n",
    "differential_intermediate_late[differential_intermediate_late$Significant == \"+\" & differential_intermediate_late$Difference > 1,]$categories <- \"Intermediate\""
   ]
  },
  {
   "cell_type": "code",
   "execution_count": null,
   "id": "28c55238-5797-4521-9471-b69c9416d6ad",
   "metadata": {},
   "outputs": [],
   "source": [
    "differential_intermediate_late$label <- rownames(differential_intermediate_late)"
   ]
  },
  {
   "cell_type": "code",
   "execution_count": null,
   "id": "9922d3e6-97e6-460c-a252-d5d50067431a",
   "metadata": {},
   "outputs": [],
   "source": [
    "differential_intermediate_late[differential_intermediate_late$categories == \"\",]$label <- \"\""
   ]
  },
  {
   "cell_type": "code",
   "execution_count": null,
   "id": "5f738e6d-636b-4642-a283-e12abdc332b3",
   "metadata": {},
   "outputs": [],
   "source": [
    "differential_order_intermediate_late <- differential_intermediate_late[order(differential_intermediate_late$Difference),]"
   ]
  },
  {
   "cell_type": "code",
   "execution_count": null,
   "id": "88d9a139-abfa-4fe4-a2f2-67f6e53aa86e",
   "metadata": {},
   "outputs": [],
   "source": [
    "saveRDS(differential_order_intermediate_late, file = \"/home/adufour/work/rds_storage/proteomics/differential_order_intermediate_late.rds\")\n",
    "saveRDS(differential_order_early_intermediate, file = \"/home/adufour/work/rds_storage/proteomics/differential_order_early_intermediate.rds\")\n",
    "saveRDS(differential_order, file = \"/home/adufour/work/rds_storage/proteomics/differential_order_early_late.rds\")\n",
    "saveRDS(expression_table, file = \"/home/adufour/work/rds_storage/proteomics/expression_table.rds\")"
   ]
  },
  {
   "cell_type": "code",
   "execution_count": null,
   "id": "9bc009e7-f619-4f04-83e7-a17cc3d3f9ef",
   "metadata": {},
   "outputs": [],
   "source": []
  }
 ],
 "metadata": {
  "kernelspec": {
   "display_name": "R [conda env:singlecell] *",
   "language": "R",
   "name": "conda-env-singlecell-r"
  },
  "language_info": {
   "codemirror_mode": "r",
   "file_extension": ".r",
   "mimetype": "text/x-r-source",
   "name": "R",
   "pygments_lexer": "r",
   "version": "4.1.3"
  }
 },
 "nbformat": 4,
 "nbformat_minor": 5
}

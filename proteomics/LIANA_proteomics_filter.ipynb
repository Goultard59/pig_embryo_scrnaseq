{
 "cells": [
  {
   "cell_type": "code",
   "execution_count": 1,
   "id": "472f3a7f-e670-4f74-a472-b0c0316fe7c3",
   "metadata": {},
   "outputs": [
    {
     "name": "stderr",
     "output_type": "stream",
     "text": [
      "Attaching SeuratObject\n",
      "\n",
      "\n",
      "Attachement du package : ‘dplyr’\n",
      "\n",
      "\n",
      "Les objets suivants sont masqués depuis ‘package:stats’:\n",
      "\n",
      "    filter, lag\n",
      "\n",
      "\n",
      "Les objets suivants sont masqués depuis ‘package:base’:\n",
      "\n",
      "    intersect, setdiff, setequal, union\n",
      "\n",
      "\n",
      "── \u001b[1mAttaching packages\u001b[22m ────────────────────────────────────────────────────────────────────────────────────────────────────────────────────────────────────────────────────────────────── tidyverse 1.3.2 ──\n",
      "\u001b[32m✔\u001b[39m \u001b[34mggplot2\u001b[39m 3.4.0     \u001b[32m✔\u001b[39m \u001b[34mpurrr  \u001b[39m 1.0.1\n",
      "\u001b[32m✔\u001b[39m \u001b[34mtidyr  \u001b[39m 1.3.0     \u001b[32m✔\u001b[39m \u001b[34mstringr\u001b[39m 1.5.0\n",
      "\u001b[32m✔\u001b[39m \u001b[34mreadr  \u001b[39m 2.1.3     \u001b[32m✔\u001b[39m \u001b[34mforcats\u001b[39m 1.0.0\n",
      "── \u001b[1mConflicts\u001b[22m ───────────────────────────────────────────────────────────────────────────────────────────────────────────────────────────────────────────────────────────────────── tidyverse_conflicts() ──\n",
      "\u001b[31m✖\u001b[39m \u001b[34mdplyr\u001b[39m::\u001b[32mfilter()\u001b[39m masks \u001b[34mstats\u001b[39m::filter()\n",
      "\u001b[31m✖\u001b[39m \u001b[34mdplyr\u001b[39m::\u001b[32mlag()\u001b[39m    masks \u001b[34mstats\u001b[39m::lag()\n"
     ]
    }
   ],
   "source": [
    "library(liana)\n",
    "library(Seurat)\n",
    "library(tibble)\n",
    "library(dplyr)\n",
    "library(gprofiler2)\n",
    "library(tidyverse)\n",
    "library(OmnipathR)"
   ]
  },
  {
   "cell_type": "code",
   "execution_count": 2,
   "id": "a56b1763-def4-4e4c-b851-6d482d100e8d",
   "metadata": {},
   "outputs": [],
   "source": [
    "differential_order_early_late<-readRDS(\"/home/adufour/work/rds_storage/proteomics/differential_order_early_late.rds\")"
   ]
  },
  {
   "cell_type": "code",
   "execution_count": 3,
   "id": "d3e6820e-678c-4860-8fa5-30a9253b5439",
   "metadata": {},
   "outputs": [],
   "source": [
    "differential_order_late <- differential_order_early_late[differential_order_early_late$categories == \"Late\",]"
   ]
  },
  {
   "cell_type": "code",
   "execution_count": 4,
   "id": "3177f704-d3f5-44f9-ac64-58eca2b53610",
   "metadata": {},
   "outputs": [],
   "source": [
    "differential_order_early <- differential_order_early_late[differential_order_early_late$categories == \"Early\",]"
   ]
  },
  {
   "cell_type": "code",
   "execution_count": 5,
   "id": "3b919e50-85fe-4df1-ac77-6e4fc2edc052",
   "metadata": {},
   "outputs": [],
   "source": [
    "liana_result_late <- readRDS(\"/home/adufour/work/rds_storage/LR/liana/liana_result_proteomics.rds\")"
   ]
  },
  {
   "cell_type": "code",
   "execution_count": 6,
   "id": "8d8bb03e-7160-4ac7-8fc8-5b28e53fda9b",
   "metadata": {},
   "outputs": [],
   "source": [
    "liana_result_early <- readRDS(\"/home/adufour/work/rds_storage/LR/liana/liana_result_proteomics_early.rds\")"
   ]
  },
  {
   "cell_type": "code",
   "execution_count": 7,
   "id": "bfe53f3e-a1d6-4062-abf4-0c3ed07dbd2d",
   "metadata": {},
   "outputs": [],
   "source": [
    "liana_result_late <- liana_result_late[liana_result_late$source == \"Proteomics\",]"
   ]
  },
  {
   "cell_type": "code",
   "execution_count": 8,
   "id": "a536aaaf-4ba8-464e-aadf-abc1f93aba69",
   "metadata": {},
   "outputs": [],
   "source": [
    "liana_result_early <- liana_result_early[liana_result_early$source == \"Proteomics\",]"
   ]
  },
  {
   "cell_type": "code",
   "execution_count": 9,
   "id": "4fc17c3e-aeae-4ee0-8db4-a2d503810174",
   "metadata": {},
   "outputs": [],
   "source": [
    "target_list_late <- c('Epiblaste_J11', 'Epiblaste_J9', 'Trophectoderme_J9', 'Trophectoderme_J11')"
   ]
  },
  {
   "cell_type": "code",
   "execution_count": 10,
   "id": "d224a907-91eb-4c02-9bf0-0cba85aa05f9",
   "metadata": {},
   "outputs": [],
   "source": [
    "target_list_early <- c('ICM_J5', 'Epiblaste_J7', 'Trophectoderme_J5', 'Trophectoderme_J7')"
   ]
  },
  {
   "cell_type": "code",
   "execution_count": 11,
   "id": "56dc604b-547e-4721-805e-deefd47de4d9",
   "metadata": {},
   "outputs": [],
   "source": [
    "liana_result_late <- liana_result_late[liana_result_late$target %in% target_list_late,]"
   ]
  },
  {
   "cell_type": "code",
   "execution_count": 12,
   "id": "58e60cd0-f5b8-48b2-93a9-3f9662e56431",
   "metadata": {},
   "outputs": [],
   "source": [
    "liana_result_early <- liana_result_early[liana_result_early$target %in% target_list_early,]"
   ]
  },
  {
   "cell_type": "code",
   "execution_count": 13,
   "id": "31c8b958-c021-4a56-b416-5d73b2cbd509",
   "metadata": {},
   "outputs": [],
   "source": [
    "liana_result_late <- liana_result_late[liana_result_late$ligand %in% differential_order_late$label,]"
   ]
  },
  {
   "cell_type": "code",
   "execution_count": 14,
   "id": "4c1580a6-17d4-4902-9883-f3c408788736",
   "metadata": {},
   "outputs": [],
   "source": [
    "liana_result_early <- liana_result_early[liana_result_early$ligand %in% differential_order_early$label,]"
   ]
  },
  {
   "cell_type": "code",
   "execution_count": 17,
   "id": "cfa97249-1e7d-447f-9cb5-37bacf535113",
   "metadata": {},
   "outputs": [
    {
     "data": {
      "text/html": [
       "<table class=\"dataframe\">\n",
       "<caption>A data.frame: 6 × 26</caption>\n",
       "<thead>\n",
       "\t<tr><th></th><th scope=col>source</th><th scope=col>target</th><th scope=col>ligand</th><th scope=col>receptor</th><th scope=col>aggregate_rank</th><th scope=col>mean_rank</th><th scope=col>connectome.weight_sc</th><th scope=col>connectome.rank</th><th scope=col>logfc.logfc_comb</th><th scope=col>logfc.rank</th><th scope=col>⋯</th><th scope=col>cytotalk.crosstalk_score</th><th scope=col>cytotalk.rank</th><th scope=col>call_squidpy.pvalue</th><th scope=col>call_squidpy.rank</th><th scope=col>call_cellchat.pval</th><th scope=col>call_cellchat.rank</th><th scope=col>call_connectome.weight_sc</th><th scope=col>call_connectome.rank</th><th scope=col>call_italk.logfc_comb</th><th scope=col>call_italk.rank</th></tr>\n",
       "\t<tr><th></th><th scope=col>&lt;chr&gt;</th><th scope=col>&lt;chr&gt;</th><th scope=col>&lt;chr&gt;</th><th scope=col>&lt;chr&gt;</th><th scope=col>&lt;dbl&gt;</th><th scope=col>&lt;dbl&gt;</th><th scope=col>&lt;dbl&gt;</th><th scope=col>&lt;dbl&gt;</th><th scope=col>&lt;dbl&gt;</th><th scope=col>&lt;dbl&gt;</th><th scope=col>⋯</th><th scope=col>&lt;dbl&gt;</th><th scope=col>&lt;dbl&gt;</th><th scope=col>&lt;dbl&gt;</th><th scope=col>&lt;dbl&gt;</th><th scope=col>&lt;dbl&gt;</th><th scope=col>&lt;dbl&gt;</th><th scope=col>&lt;dbl&gt;</th><th scope=col>&lt;dbl&gt;</th><th scope=col>&lt;dbl&gt;</th><th scope=col>&lt;dbl&gt;</th></tr>\n",
       "</thead>\n",
       "<tbody>\n",
       "\t<tr><th scope=row>30</th><td>Proteomics</td><td>Epiblaste_J9 </td><td>MET   </td><td>ITGB1</td><td>8.025418e-21</td><td>29756.5</td><td>5.030324</td><td> 48</td><td>1.454174</td><td>141</td><td>⋯</td><td>0.2067094</td><td>223</td><td>NA</td><td>295100</td><td>0</td><td>159</td><td>4.746337</td><td>327</td><td>0.1472008</td><td>533</td></tr>\n",
       "\t<tr><th scope=row>31</th><td>Proteomics</td><td>Epiblaste_J9 </td><td>ADAM15</td><td>ITGB1</td><td>8.490944e-21</td><td>29724.0</td><td>4.941442</td><td> 69</td><td>2.885593</td><td> 63</td><td>⋯</td><td>0.1342229</td><td>353</td><td>NA</td><td>295100</td><td>0</td><td>159</td><td>4.871998</td><td> 99</td><td>0.1472008</td><td>533</td></tr>\n",
       "\t<tr><th scope=row>42</th><td>Proteomics</td><td>Epiblaste_J9 </td><td>COL4A5</td><td>ITGB1</td><td>3.798834e-20</td><td>29792.1</td><td>4.780235</td><td>110</td><td>1.737880</td><td> 98</td><td>⋯</td><td>0.1314709</td><td>370</td><td>NA</td><td>295100</td><td>0</td><td>159</td><td>4.664268</td><td>577</td><td>0.1472008</td><td>533</td></tr>\n",
       "\t<tr><th scope=row>46</th><td>Proteomics</td><td>Epiblaste_J11</td><td>MET   </td><td>ITGB1</td><td>4.485996e-20</td><td>29728.2</td><td>5.106930</td><td> 32</td><td>1.586639</td><td>117</td><td>⋯</td><td>0.1977614</td><td>237</td><td>NA</td><td>295100</td><td>0</td><td>159</td><td>4.822943</td><td>152</td><td>0.1472008</td><td>533</td></tr>\n",
       "\t<tr><th scope=row>47</th><td>Proteomics</td><td>Epiblaste_J11</td><td>ADAM15</td><td>ITGB1</td><td>4.715992e-20</td><td>29698.8</td><td>5.018048</td><td> 52</td><td>3.018058</td><td> 59</td><td>⋯</td><td>0.2075647</td><td>222</td><td>NA</td><td>295100</td><td>0</td><td>159</td><td>4.948604</td><td> 49</td><td>0.1472008</td><td>533</td></tr>\n",
       "\t<tr><th scope=row>48</th><td>Proteomics</td><td>Epiblaste_J11</td><td>COL4A5</td><td>ITGB1</td><td>4.817728e-20</td><td>29746.4</td><td>4.856840</td><td> 91</td><td>1.870345</td><td> 94</td><td>⋯</td><td>0.1981592</td><td>236</td><td>NA</td><td>295100</td><td>0</td><td>159</td><td>4.740874</td><td>351</td><td>0.1472008</td><td>533</td></tr>\n",
       "</tbody>\n",
       "</table>\n"
      ],
      "text/latex": [
       "A data.frame: 6 × 26\n",
       "\\begin{tabular}{r|lllllllllllllllllllll}\n",
       "  & source & target & ligand & receptor & aggregate\\_rank & mean\\_rank & connectome.weight\\_sc & connectome.rank & logfc.logfc\\_comb & logfc.rank & ⋯ & cytotalk.crosstalk\\_score & cytotalk.rank & call\\_squidpy.pvalue & call\\_squidpy.rank & call\\_cellchat.pval & call\\_cellchat.rank & call\\_connectome.weight\\_sc & call\\_connectome.rank & call\\_italk.logfc\\_comb & call\\_italk.rank\\\\\n",
       "  & <chr> & <chr> & <chr> & <chr> & <dbl> & <dbl> & <dbl> & <dbl> & <dbl> & <dbl> & ⋯ & <dbl> & <dbl> & <dbl> & <dbl> & <dbl> & <dbl> & <dbl> & <dbl> & <dbl> & <dbl>\\\\\n",
       "\\hline\n",
       "\t30 & Proteomics & Epiblaste\\_J9  & MET    & ITGB1 & 8.025418e-21 & 29756.5 & 5.030324 &  48 & 1.454174 & 141 & ⋯ & 0.2067094 & 223 & NA & 295100 & 0 & 159 & 4.746337 & 327 & 0.1472008 & 533\\\\\n",
       "\t31 & Proteomics & Epiblaste\\_J9  & ADAM15 & ITGB1 & 8.490944e-21 & 29724.0 & 4.941442 &  69 & 2.885593 &  63 & ⋯ & 0.1342229 & 353 & NA & 295100 & 0 & 159 & 4.871998 &  99 & 0.1472008 & 533\\\\\n",
       "\t42 & Proteomics & Epiblaste\\_J9  & COL4A5 & ITGB1 & 3.798834e-20 & 29792.1 & 4.780235 & 110 & 1.737880 &  98 & ⋯ & 0.1314709 & 370 & NA & 295100 & 0 & 159 & 4.664268 & 577 & 0.1472008 & 533\\\\\n",
       "\t46 & Proteomics & Epiblaste\\_J11 & MET    & ITGB1 & 4.485996e-20 & 29728.2 & 5.106930 &  32 & 1.586639 & 117 & ⋯ & 0.1977614 & 237 & NA & 295100 & 0 & 159 & 4.822943 & 152 & 0.1472008 & 533\\\\\n",
       "\t47 & Proteomics & Epiblaste\\_J11 & ADAM15 & ITGB1 & 4.715992e-20 & 29698.8 & 5.018048 &  52 & 3.018058 &  59 & ⋯ & 0.2075647 & 222 & NA & 295100 & 0 & 159 & 4.948604 &  49 & 0.1472008 & 533\\\\\n",
       "\t48 & Proteomics & Epiblaste\\_J11 & COL4A5 & ITGB1 & 4.817728e-20 & 29746.4 & 4.856840 &  91 & 1.870345 &  94 & ⋯ & 0.1981592 & 236 & NA & 295100 & 0 & 159 & 4.740874 & 351 & 0.1472008 & 533\\\\\n",
       "\\end{tabular}\n"
      ],
      "text/markdown": [
       "\n",
       "A data.frame: 6 × 26\n",
       "\n",
       "| <!--/--> | source &lt;chr&gt; | target &lt;chr&gt; | ligand &lt;chr&gt; | receptor &lt;chr&gt; | aggregate_rank &lt;dbl&gt; | mean_rank &lt;dbl&gt; | connectome.weight_sc &lt;dbl&gt; | connectome.rank &lt;dbl&gt; | logfc.logfc_comb &lt;dbl&gt; | logfc.rank &lt;dbl&gt; | ⋯ ⋯ | cytotalk.crosstalk_score &lt;dbl&gt; | cytotalk.rank &lt;dbl&gt; | call_squidpy.pvalue &lt;dbl&gt; | call_squidpy.rank &lt;dbl&gt; | call_cellchat.pval &lt;dbl&gt; | call_cellchat.rank &lt;dbl&gt; | call_connectome.weight_sc &lt;dbl&gt; | call_connectome.rank &lt;dbl&gt; | call_italk.logfc_comb &lt;dbl&gt; | call_italk.rank &lt;dbl&gt; |\n",
       "|---|---|---|---|---|---|---|---|---|---|---|---|---|---|---|---|---|---|---|---|---|---|\n",
       "| 30 | Proteomics | Epiblaste_J9  | MET    | ITGB1 | 8.025418e-21 | 29756.5 | 5.030324 |  48 | 1.454174 | 141 | ⋯ | 0.2067094 | 223 | NA | 295100 | 0 | 159 | 4.746337 | 327 | 0.1472008 | 533 |\n",
       "| 31 | Proteomics | Epiblaste_J9  | ADAM15 | ITGB1 | 8.490944e-21 | 29724.0 | 4.941442 |  69 | 2.885593 |  63 | ⋯ | 0.1342229 | 353 | NA | 295100 | 0 | 159 | 4.871998 |  99 | 0.1472008 | 533 |\n",
       "| 42 | Proteomics | Epiblaste_J9  | COL4A5 | ITGB1 | 3.798834e-20 | 29792.1 | 4.780235 | 110 | 1.737880 |  98 | ⋯ | 0.1314709 | 370 | NA | 295100 | 0 | 159 | 4.664268 | 577 | 0.1472008 | 533 |\n",
       "| 46 | Proteomics | Epiblaste_J11 | MET    | ITGB1 | 4.485996e-20 | 29728.2 | 5.106930 |  32 | 1.586639 | 117 | ⋯ | 0.1977614 | 237 | NA | 295100 | 0 | 159 | 4.822943 | 152 | 0.1472008 | 533 |\n",
       "| 47 | Proteomics | Epiblaste_J11 | ADAM15 | ITGB1 | 4.715992e-20 | 29698.8 | 5.018048 |  52 | 3.018058 |  59 | ⋯ | 0.2075647 | 222 | NA | 295100 | 0 | 159 | 4.948604 |  49 | 0.1472008 | 533 |\n",
       "| 48 | Proteomics | Epiblaste_J11 | COL4A5 | ITGB1 | 4.817728e-20 | 29746.4 | 4.856840 |  91 | 1.870345 |  94 | ⋯ | 0.1981592 | 236 | NA | 295100 | 0 | 159 | 4.740874 | 351 | 0.1472008 | 533 |\n",
       "\n"
      ],
      "text/plain": [
       "   source     target        ligand receptor aggregate_rank mean_rank\n",
       "30 Proteomics Epiblaste_J9  MET    ITGB1    8.025418e-21   29756.5  \n",
       "31 Proteomics Epiblaste_J9  ADAM15 ITGB1    8.490944e-21   29724.0  \n",
       "42 Proteomics Epiblaste_J9  COL4A5 ITGB1    3.798834e-20   29792.1  \n",
       "46 Proteomics Epiblaste_J11 MET    ITGB1    4.485996e-20   29728.2  \n",
       "47 Proteomics Epiblaste_J11 ADAM15 ITGB1    4.715992e-20   29698.8  \n",
       "48 Proteomics Epiblaste_J11 COL4A5 ITGB1    4.817728e-20   29746.4  \n",
       "   connectome.weight_sc connectome.rank logfc.logfc_comb logfc.rank ⋯\n",
       "30 5.030324              48             1.454174         141        ⋯\n",
       "31 4.941442              69             2.885593          63        ⋯\n",
       "42 4.780235             110             1.737880          98        ⋯\n",
       "46 5.106930              32             1.586639         117        ⋯\n",
       "47 5.018048              52             3.018058          59        ⋯\n",
       "48 4.856840              91             1.870345          94        ⋯\n",
       "   cytotalk.crosstalk_score cytotalk.rank call_squidpy.pvalue call_squidpy.rank\n",
       "30 0.2067094                223           NA                  295100           \n",
       "31 0.1342229                353           NA                  295100           \n",
       "42 0.1314709                370           NA                  295100           \n",
       "46 0.1977614                237           NA                  295100           \n",
       "47 0.2075647                222           NA                  295100           \n",
       "48 0.1981592                236           NA                  295100           \n",
       "   call_cellchat.pval call_cellchat.rank call_connectome.weight_sc\n",
       "30 0                  159                4.746337                 \n",
       "31 0                  159                4.871998                 \n",
       "42 0                  159                4.664268                 \n",
       "46 0                  159                4.822943                 \n",
       "47 0                  159                4.948604                 \n",
       "48 0                  159                4.740874                 \n",
       "   call_connectome.rank call_italk.logfc_comb call_italk.rank\n",
       "30 327                  0.1472008             533            \n",
       "31  99                  0.1472008             533            \n",
       "42 577                  0.1472008             533            \n",
       "46 152                  0.1472008             533            \n",
       "47  49                  0.1472008             533            \n",
       "48 351                  0.1472008             533            "
      ]
     },
     "metadata": {},
     "output_type": "display_data"
    }
   ],
   "source": [
    "head(liana_result_late)"
   ]
  },
  {
   "cell_type": "code",
   "execution_count": 18,
   "id": "94d96bfd-623d-4900-bf47-48aa93ee65db",
   "metadata": {},
   "outputs": [],
   "source": [
    "write.csv(liana_result_late, \"/home/adufour/work/table/liana_result_late.csv\", row.names=FALSE)"
   ]
  }
 ],
 "metadata": {
  "kernelspec": {
   "display_name": "Python 3 (ipykernel)",
   "language": "python",
   "name": "python3"
  },
  "language_info": {
   "codemirror_mode": {
    "name": "ipython",
    "version": 3
   },
   "file_extension": ".py",
   "mimetype": "text/x-python",
   "name": "python",
   "nbconvert_exporter": "python",
   "pygments_lexer": "ipython3",
   "version": "3.11.4"
  }
 },
 "nbformat": 4,
 "nbformat_minor": 5
}

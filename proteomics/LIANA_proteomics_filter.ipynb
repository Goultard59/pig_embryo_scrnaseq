{
 "cells": [
  {
   "cell_type": "code",
   "execution_count": 1,
   "id": "472f3a7f-e670-4f74-a472-b0c0316fe7c3",
   "metadata": {},
   "outputs": [
    {
     "name": "stderr",
     "output_type": "stream",
     "text": [
      "Attaching SeuratObject\n",
      "\n",
      "\n",
      "Attachement du package : ‘dplyr’\n",
      "\n",
      "\n",
      "Les objets suivants sont masqués depuis ‘package:stats’:\n",
      "\n",
      "    filter, lag\n",
      "\n",
      "\n",
      "Les objets suivants sont masqués depuis ‘package:base’:\n",
      "\n",
      "    intersect, setdiff, setequal, union\n",
      "\n",
      "\n",
      "── \u001b[1mAttaching packages\u001b[22m ────────────────────────────────────────────────────────────────────────────────────────────────────────────────────────────────────────────────────────────────── tidyverse 1.3.2 ──\n",
      "\u001b[32m✔\u001b[39m \u001b[34mggplot2\u001b[39m 3.4.0     \u001b[32m✔\u001b[39m \u001b[34mpurrr  \u001b[39m 1.0.1\n",
      "\u001b[32m✔\u001b[39m \u001b[34mtidyr  \u001b[39m 1.3.0     \u001b[32m✔\u001b[39m \u001b[34mstringr\u001b[39m 1.5.0\n",
      "\u001b[32m✔\u001b[39m \u001b[34mreadr  \u001b[39m 2.1.3     \u001b[32m✔\u001b[39m \u001b[34mforcats\u001b[39m 1.0.0\n",
      "── \u001b[1mConflicts\u001b[22m ───────────────────────────────────────────────────────────────────────────────────────────────────────────────────────────────────────────────────────────────────── tidyverse_conflicts() ──\n",
      "\u001b[31m✖\u001b[39m \u001b[34mdplyr\u001b[39m::\u001b[32mfilter()\u001b[39m masks \u001b[34mstats\u001b[39m::filter()\n",
      "\u001b[31m✖\u001b[39m \u001b[34mdplyr\u001b[39m::\u001b[32mlag()\u001b[39m    masks \u001b[34mstats\u001b[39m::lag()\n"
     ]
    }
   ],
   "source": [
    "library(liana)\n",
    "library(Seurat)\n",
    "library(tibble)\n",
    "library(dplyr)\n",
    "library(gprofiler2)\n",
    "library(tidyverse)\n",
    "library(OmnipathR)"
   ]
  },
  {
   "cell_type": "code",
   "execution_count": 2,
   "id": "a56b1763-def4-4e4c-b851-6d482d100e8d",
   "metadata": {},
   "outputs": [],
   "source": [
    "differential_order_early_late<-readRDS(\"/home/adufour/work/rds_storage/proteomics/differential_order_early_late.rds\")"
   ]
  },
  {
   "cell_type": "code",
   "execution_count": 3,
   "id": "d3e6820e-678c-4860-8fa5-30a9253b5439",
   "metadata": {},
   "outputs": [],
   "source": [
    "differential_order_late <- differential_order_early_late[differential_order_early_late$categories == \"Late\",]"
   ]
  },
  {
   "cell_type": "code",
   "execution_count": 4,
   "id": "3177f704-d3f5-44f9-ac64-58eca2b53610",
   "metadata": {},
   "outputs": [],
   "source": [
    "differential_order_early <- differential_order_early_late[differential_order_early_late$categories == \"Early\",]"
   ]
  },
  {
   "cell_type": "code",
   "execution_count": 5,
   "id": "3b919e50-85fe-4df1-ac77-6e4fc2edc052",
   "metadata": {},
   "outputs": [],
   "source": [
    "liana_result_late <- readRDS(\"/home/adufour/work/rds_storage/LR/liana/liana_result_proteomics.rds\")"
   ]
  },
  {
   "cell_type": "code",
   "execution_count": 6,
   "id": "8d8bb03e-7160-4ac7-8fc8-5b28e53fda9b",
   "metadata": {},
   "outputs": [],
   "source": [
    "liana_result_early <- readRDS(\"/home/adufour/work/rds_storage/LR/liana/liana_result_proteomics_early.rds\")"
   ]
  },
  {
   "cell_type": "code",
   "execution_count": 7,
   "id": "bfe53f3e-a1d6-4062-abf4-0c3ed07dbd2d",
   "metadata": {},
   "outputs": [],
   "source": [
    "liana_result_late <- liana_result_late[liana_result_late$source == \"Proteomics\",]"
   ]
  },
  {
   "cell_type": "code",
   "execution_count": 8,
   "id": "a536aaaf-4ba8-464e-aadf-abc1f93aba69",
   "metadata": {},
   "outputs": [],
   "source": [
    "liana_result_early <- liana_result_early[liana_result_early$source == \"Proteomics\",]"
   ]
  },
  {
   "cell_type": "code",
   "execution_count": 9,
   "id": "4fc17c3e-aeae-4ee0-8db4-a2d503810174",
   "metadata": {},
   "outputs": [],
   "source": [
    "target_list_late <- c('Epiblaste_J11', 'Epiblaste_J9', 'Trophectoderme_J9', 'Trophectoderme_J11')"
   ]
  },
  {
   "cell_type": "code",
   "execution_count": 10,
   "id": "d224a907-91eb-4c02-9bf0-0cba85aa05f9",
   "metadata": {},
   "outputs": [],
   "source": [
    "target_list_early <- c('ICM_J5', 'Epiblaste_J7', 'Trophectoderme_J5', 'Trophectoderme_J7')"
   ]
  },
  {
   "cell_type": "code",
   "execution_count": 11,
   "id": "56dc604b-547e-4721-805e-deefd47de4d9",
   "metadata": {},
   "outputs": [],
   "source": [
    "liana_result_late <- liana_result_late[liana_result_late$target %in% target_list_late,]"
   ]
  },
  {
   "cell_type": "code",
   "execution_count": 12,
   "id": "58e60cd0-f5b8-48b2-93a9-3f9662e56431",
   "metadata": {},
   "outputs": [],
   "source": [
    "liana_result_early <- liana_result_early[liana_result_early$target %in% target_list_early,]"
   ]
  },
  {
   "cell_type": "code",
   "execution_count": 13,
   "id": "31c8b958-c021-4a56-b416-5d73b2cbd509",
   "metadata": {},
   "outputs": [],
   "source": [
    "liana_result_late <- liana_result_late[liana_result_late$ligand %in% differential_order_late$label,]"
   ]
  },
  {
   "cell_type": "code",
   "execution_count": 14,
   "id": "4c1580a6-17d4-4902-9883-f3c408788736",
   "metadata": {},
   "outputs": [],
   "source": [
    "liana_result_early <- liana_result_early[liana_result_early$ligand %in% differential_order_early$label,]"
   ]
  },
  {
   "cell_type": "code",
   "execution_count": 15,
   "id": "cfa97249-1e7d-447f-9cb5-37bacf535113",
   "metadata": {},
   "outputs": [
    {
     "name": "stderr",
     "output_type": "stream",
     "text": [
      "Warning message in cbind(parts$left, chars$ellip_h, parts$right, deparse.level = 0L):\n",
      "“number of rows of result is not a multiple of vector length (arg 2)”\n",
      "Warning message in cbind(parts$left, chars$ellip_h, parts$right, deparse.level = 0L):\n",
      "“number of rows of result is not a multiple of vector length (arg 2)”\n",
      "Warning message in cbind(parts$left, chars$ellip_h, parts$right, deparse.level = 0L):\n",
      "“number of rows of result is not a multiple of vector length (arg 2)”\n",
      "Warning message in cbind(parts$left, chars$ellip_h, parts$right, deparse.level = 0L):\n",
      "“number of rows of result is not a multiple of vector length (arg 2)”\n"
     ]
    },
    {
     "data": {
      "text/html": [
       "<table class=\"dataframe\">\n",
       "<caption>A data.frame: 0 × 26</caption>\n",
       "<thead>\n",
       "\t<tr><th scope=col>source</th><th scope=col>target</th><th scope=col>ligand</th><th scope=col>receptor</th><th scope=col>aggregate_rank</th><th scope=col>mean_rank</th><th scope=col>connectome.weight_sc</th><th scope=col>connectome.rank</th><th scope=col>logfc.logfc_comb</th><th scope=col>logfc.rank</th><th scope=col>⋯</th><th scope=col>cytotalk.crosstalk_score</th><th scope=col>cytotalk.rank</th><th scope=col>call_squidpy.pvalue</th><th scope=col>call_squidpy.rank</th><th scope=col>call_cellchat.pval</th><th scope=col>call_cellchat.rank</th><th scope=col>call_connectome.weight_sc</th><th scope=col>call_connectome.rank</th><th scope=col>call_italk.logfc_comb</th><th scope=col>call_italk.rank</th></tr>\n",
       "\t<tr><th scope=col>&lt;chr&gt;</th><th scope=col>&lt;chr&gt;</th><th scope=col>&lt;chr&gt;</th><th scope=col>&lt;chr&gt;</th><th scope=col>&lt;dbl&gt;</th><th scope=col>&lt;dbl&gt;</th><th scope=col>&lt;dbl&gt;</th><th scope=col>&lt;dbl&gt;</th><th scope=col>&lt;dbl&gt;</th><th scope=col>&lt;dbl&gt;</th><th scope=col>⋯</th><th scope=col>&lt;dbl&gt;</th><th scope=col>&lt;dbl&gt;</th><th scope=col>&lt;dbl&gt;</th><th scope=col>&lt;dbl&gt;</th><th scope=col>&lt;dbl&gt;</th><th scope=col>&lt;dbl&gt;</th><th scope=col>&lt;dbl&gt;</th><th scope=col>&lt;dbl&gt;</th><th scope=col>&lt;dbl&gt;</th><th scope=col>&lt;dbl&gt;</th></tr>\n",
       "</thead>\n",
       "<tbody>\n",
       "</tbody>\n",
       "</table>\n"
      ],
      "text/latex": [
       "A data.frame: 0 × 26\n",
       "\\begin{tabular}{lllllllllllllllllllll}\n",
       " source & target & ligand & receptor & aggregate\\_rank & mean\\_rank & connectome.weight\\_sc & connectome.rank & logfc.logfc\\_comb & logfc.rank & ⋯ & cytotalk.crosstalk\\_score & cytotalk.rank & call\\_squidpy.pvalue & call\\_squidpy.rank & call\\_cellchat.pval & call\\_cellchat.rank & call\\_connectome.weight\\_sc & call\\_connectome.rank & call\\_italk.logfc\\_comb & call\\_italk.rank\\\\\n",
       " <chr> & <chr> & <chr> & <chr> & <dbl> & <dbl> & <dbl> & <dbl> & <dbl> & <dbl> & ⋯ & <dbl> & <dbl> & <dbl> & <dbl> & <dbl> & <dbl> & <dbl> & <dbl> & <dbl> & <dbl>\\\\\n",
       "\\hline\n",
       "\\end{tabular}\n"
      ],
      "text/markdown": [
       "\n",
       "A data.frame: 0 × 26\n",
       "\n",
       "| source &lt;chr&gt; | target &lt;chr&gt; | ligand &lt;chr&gt; | receptor &lt;chr&gt; | aggregate_rank &lt;dbl&gt; | mean_rank &lt;dbl&gt; | connectome.weight_sc &lt;dbl&gt; | connectome.rank &lt;dbl&gt; | logfc.logfc_comb &lt;dbl&gt; | logfc.rank &lt;dbl&gt; | ⋯ ⋯ | cytotalk.crosstalk_score &lt;dbl&gt; | cytotalk.rank &lt;dbl&gt; | call_squidpy.pvalue &lt;dbl&gt; | call_squidpy.rank &lt;dbl&gt; | call_cellchat.pval &lt;dbl&gt; | call_cellchat.rank &lt;dbl&gt; | call_connectome.weight_sc &lt;dbl&gt; | call_connectome.rank &lt;dbl&gt; | call_italk.logfc_comb &lt;dbl&gt; | call_italk.rank &lt;dbl&gt; |\n",
       "|---|---|---|---|---|---|---|---|---|---|---|---|---|---|---|---|---|---|---|---|---|\n",
       "\n"
      ],
      "text/plain": [
       "     source target ligand receptor aggregate_rank mean_rank\n",
       "     connectome.weight_sc connectome.rank logfc.logfc_comb logfc.rank ⋯\n",
       "     cytotalk.crosstalk_score cytotalk.rank call_squidpy.pvalue\n",
       "     call_squidpy.rank call_cellchat.pval call_cellchat.rank\n",
       "     call_connectome.weight_sc call_connectome.rank call_italk.logfc_comb\n",
       "     call_italk.rank"
      ]
     },
     "metadata": {},
     "output_type": "display_data"
    }
   ],
   "source": [
    "head(liana_result_early)"
   ]
  },
  {
   "cell_type": "code",
   "execution_count": 16,
   "id": "a15a7a5a-8d45-4412-b661-264f3fd43636",
   "metadata": {},
   "outputs": [
    {
     "ename": "ERROR",
     "evalue": "Error in paste0(liana_result$ligand, \"_\", liana_result$receptor): objet 'liana_result' introuvable\n",
     "output_type": "error",
     "traceback": [
      "Error in paste0(liana_result$ligand, \"_\", liana_result$receptor): objet 'liana_result' introuvable\nTraceback:\n",
      "1. paste0(liana_result$ligand, \"_\", liana_result$receptor)"
     ]
    }
   ],
   "source": [
    "liana_result$lr <- paste0(liana_result$ligand, \"_\", liana_result$receptor)"
   ]
  },
  {
   "cell_type": "code",
   "execution_count": null,
   "id": "f1bce160-05b8-4fea-9ca5-03c79a31300d",
   "metadata": {},
   "outputs": [],
   "source": [
    "differential_order_early_late <- readRDS(\"/home/adufour/work/rds_storage/proteomics/differential_order_early_late.rds\")\n",
    "\n",
    "differential_order_early_late <- differential_order_early_late[differential_order_early_late$categories == \"Early\",]"
   ]
  },
  {
   "cell_type": "code",
   "execution_count": null,
   "id": "94d96bfd-623d-4900-bf47-48aa93ee65db",
   "metadata": {},
   "outputs": [],
   "source": [
    "write.csv(liana_result_late, \"/home/adufour/work/table/liana_result_late.csv\", row.names=FALSE)"
   ]
  },
  {
   "cell_type": "code",
   "execution_count": null,
   "id": "df754e68-e416-4a9b-a69e-7f5d34d44804",
   "metadata": {},
   "outputs": [],
   "source": []
  }
 ],
 "metadata": {
  "kernelspec": {
   "display_name": "R [conda env:singlecell] *",
   "language": "R",
   "name": "conda-env-singlecell-r"
  },
  "language_info": {
   "codemirror_mode": "r",
   "file_extension": ".r",
   "mimetype": "text/x-r-source",
   "name": "R",
   "pygments_lexer": "r",
   "version": "4.1.3"
  }
 },
 "nbformat": 4,
 "nbformat_minor": 5
}

{
 "cells": [
  {
   "cell_type": "code",
   "execution_count": 1,
   "id": "82549758-5761-489d-abe6-175111a77c75",
   "metadata": {
    "tags": [],
    "vscode": {
     "languageId": "r"
    }
   },
   "outputs": [
    {
     "name": "stderr",
     "output_type": "stream",
     "text": [
      "Attaching SeuratObject\n",
      "\n",
      "Le chargement a nécessité le package : grid\n",
      "\n",
      "========================================\n",
      "ComplexHeatmap version 2.10.0\n",
      "Bioconductor page: http://bioconductor.org/packages/ComplexHeatmap/\n",
      "Github page: https://github.com/jokergoo/ComplexHeatmap\n",
      "Documentation: http://jokergoo.github.io/ComplexHeatmap-reference\n",
      "\n",
      "If you use it in published research, please cite:\n",
      "Gu, Z. Complex heatmaps reveal patterns and correlations in multidimensional \n",
      "  genomic data. Bioinformatics 2016.\n",
      "\n",
      "The new InteractiveComplexHeatmap package can directly export static \n",
      "complex heatmaps into an interactive Shiny app with zero effort. Have a try!\n",
      "\n",
      "This message can be suppressed by:\n",
      "  suppressPackageStartupMessages(library(ComplexHeatmap))\n",
      "========================================\n",
      "\n",
      "\n",
      "========================================\n",
      "circlize version 0.4.15\n",
      "CRAN page: https://cran.r-project.org/package=circlize\n",
      "Github page: https://github.com/jokergoo/circlize\n",
      "Documentation: https://jokergoo.github.io/circlize_book/book/\n",
      "\n",
      "If you use it in published research, please cite:\n",
      "Gu, Z. circlize implements and enhances circular visualization\n",
      "  in R. Bioinformatics 2014.\n",
      "\n",
      "This message can be suppressed by:\n",
      "  suppressPackageStartupMessages(library(circlize))\n",
      "========================================\n",
      "\n",
      "\n",
      "\n",
      "Attachement du package : ‘SCopeLoomR’\n",
      "\n",
      "\n",
      "L'objet suivant est masqué depuis ‘package:base’:\n",
      "\n",
      "    flush\n",
      "\n",
      "\n",
      "\n",
      "Attachement du package : ‘SCENIC’\n",
      "\n",
      "\n",
      "L'objet suivant est masqué depuis ‘package:AUCell’:\n",
      "\n",
      "    plotEmb_rgb\n",
      "\n",
      "\n"
     ]
    }
   ],
   "source": [
    "library(Seurat)\n",
    "library(ComplexHeatmap)\n",
    "library(circlize)\n",
    "library(RColorBrewer)\n",
    "library(SCopeLoomR)\n",
    "library(AUCell)\n",
    "library(SCENIC)"
   ]
  },
  {
   "cell_type": "code",
   "execution_count": 2,
   "id": "69f6e329-f42b-4f16-ad7e-a60f2d6404c9",
   "metadata": {
    "vscode": {
     "languageId": "r"
    }
   },
   "outputs": [
    {
     "data": {
      "text/html": [
       "'/work/adufour/notebook/scenic/visualisation_resultats/HeatMap'"
      ],
      "text/latex": [
       "'/work/adufour/notebook/scenic/visualisation\\_resultats/HeatMap'"
      ],
      "text/markdown": [
       "'/work/adufour/notebook/scenic/visualisation_resultats/HeatMap'"
      ],
      "text/plain": [
       "[1] \"/work/adufour/notebook/scenic/visualisation_resultats/HeatMap\""
      ]
     },
     "metadata": {},
     "output_type": "display_data"
    }
   ],
   "source": [
    "getwd()"
   ]
  },
  {
   "cell_type": "code",
   "execution_count": 3,
   "id": "90933197-5543-4b8e-b56f-6e68eccb78bd",
   "metadata": {
    "vscode": {
     "languageId": "r"
    }
   },
   "outputs": [],
   "source": [
    "options(repr.plot.width = 18, repr.plot.height = 17, repr.plot.pointsize = 24)"
   ]
  },
  {
   "cell_type": "code",
   "execution_count": 4,
   "id": "eb2c169f-e146-4633-86b0-1b1267152238",
   "metadata": {
    "vscode": {
     "languageId": "r"
    }
   },
   "outputs": [],
   "source": [
    "setwd(\"/home/adufour/work/scenic/scenic_pig/direct_annot_v6/out\")"
   ]
  },
  {
   "cell_type": "code",
   "execution_count": 5,
   "id": "23c41958-23bb-4f61-ade0-e25266f39100",
   "metadata": {
    "vscode": {
     "languageId": "r"
    }
   },
   "outputs": [],
   "source": [
    "load(\"/home/adufour/work/rds_storage/SCENIC/scenic_heatmap.RData\")"
   ]
  },
  {
   "cell_type": "code",
   "execution_count": 6,
   "id": "35082269-aa11-43e4-8264-a75f1280a8bc",
   "metadata": {
    "vscode": {
     "languageId": "r"
    }
   },
   "outputs": [],
   "source": [
    "cluster_info <- read.csv(file = '/home/adufour/work/notebook/scenic/preparation/cell_annotation/cell_type_annotation.csv')"
   ]
  },
  {
   "cell_type": "code",
   "execution_count": 7,
   "id": "920f547e-e102-4347-9f84-37d7f08db6a3",
   "metadata": {
    "vscode": {
     "languageId": "r"
    }
   },
   "outputs": [],
   "source": [
    "colnames(cluster_info) <- c(\"index\", \"cell\", \"cluster\")"
   ]
  },
  {
   "cell_type": "code",
   "execution_count": 8,
   "id": "34c88720-767d-4511-b03c-982218dc47b6",
   "metadata": {
    "vscode": {
     "languageId": "r"
    }
   },
   "outputs": [],
   "source": [
    "time <- read.csv(file = '/home/adufour/work/notebook/scenic/preparation/cell_annotation/time.csv')"
   ]
  },
  {
   "cell_type": "code",
   "execution_count": 9,
   "id": "c238cab6-6c1e-43ca-9d4b-af1d4f6acce9",
   "metadata": {
    "vscode": {
     "languageId": "r"
    }
   },
   "outputs": [],
   "source": [
    "colnames(time) <- c(\"index\", \"cell\", \"time\")"
   ]
  },
  {
   "cell_type": "code",
   "execution_count": 10,
   "id": "48472bf5-6c87-4a97-9471-ef2f4f120843",
   "metadata": {
    "vscode": {
     "languageId": "r"
    }
   },
   "outputs": [],
   "source": [
    "cellInfo <- merge(cluster_info,time,by=\"cell\")"
   ]
  },
  {
   "cell_type": "code",
   "execution_count": 11,
   "id": "9f5da73e-5bc9-4614-a4f8-068930fd169f",
   "metadata": {
    "vscode": {
     "languageId": "r"
    }
   },
   "outputs": [],
   "source": [
    "rownames(cellInfo) <- cellInfo$cell"
   ]
  },
  {
   "cell_type": "code",
   "execution_count": 12,
   "id": "caa0007d-3a68-4df0-a6be-046f0258c647",
   "metadata": {
    "vscode": {
     "languageId": "r"
    }
   },
   "outputs": [],
   "source": [
    "cellInfo$time_type <-paste(cellInfo$time,cellInfo$cluster,sep=\"_\")"
   ]
  },
  {
   "cell_type": "code",
   "execution_count": 13,
   "id": "52c7bc1d-8ffd-420a-b013-f08d0ea6009b",
   "metadata": {
    "vscode": {
     "languageId": "r"
    }
   },
   "outputs": [
    {
     "data": {
      "text/html": [
       "<table class=\"dataframe\">\n",
       "<caption>A data.frame: 6 × 6</caption>\n",
       "<thead>\n",
       "\t<tr><th></th><th scope=col>cell</th><th scope=col>index.x</th><th scope=col>cluster</th><th scope=col>index.y</th><th scope=col>time</th><th scope=col>time_type</th></tr>\n",
       "\t<tr><th></th><th scope=col>&lt;chr&gt;</th><th scope=col>&lt;int&gt;</th><th scope=col>&lt;chr&gt;</th><th scope=col>&lt;int&gt;</th><th scope=col>&lt;chr&gt;</th><th scope=col>&lt;chr&gt;</th></tr>\n",
       "</thead>\n",
       "<tbody>\n",
       "\t<tr><th scope=row>AAACCCAAGACGCTCC-1_3_3-8</th><td>AAACCCAAGACGCTCC-1_3_3-8 </td><td> 9722</td><td>HYPO Ma</td><td> 8019</td><td>J9 </td><td>J9_HYPO Ma </td></tr>\n",
       "\t<tr><th scope=row>AAACCCAAGACTGGGT-1_1_4-10</th><td>AAACCCAAGACTGGGT-1_1_4-10</td><td>22133</td><td>HYPO Ma</td><td>18237</td><td>J11</td><td>J11_HYPO Ma</td></tr>\n",
       "\t<tr><th scope=row>AAACCCAAGCAACAGC-1_1_4-10</th><td>AAACCCAAGCAACAGC-1_1_4-10</td><td>18157</td><td>TE Ma  </td><td>18238</td><td>J11</td><td>J11_TE Ma  </td></tr>\n",
       "\t<tr><th scope=row>AAACCCAAGCCGTTGC-1_4_3-9</th><td>AAACCCAAGCCGTTGC-1_4_3-9 </td><td>14538</td><td>HYPO Ve</td><td>10880</td><td>J9 </td><td>J9_HYPO Ve </td></tr>\n",
       "\t<tr><th scope=row>AAACCCAAGGCCCACT-1_2_4-11</th><td>AAACCCAAGGCCCACT-1_2_4-11</td><td>27514</td><td>TE Gr  </td><td>27711</td><td>J11</td><td>J11_TE Gr  </td></tr>\n",
       "\t<tr><th scope=row>AAACCCAAGGTGCTAG-1_3_3-8</th><td>AAACCCAAGGTGCTAG-1_3_3-8 </td><td> 9723</td><td>HYPO Ma</td><td> 8020</td><td>J9 </td><td>J9_HYPO Ma </td></tr>\n",
       "</tbody>\n",
       "</table>\n"
      ],
      "text/latex": [
       "A data.frame: 6 × 6\n",
       "\\begin{tabular}{r|llllll}\n",
       "  & cell & index.x & cluster & index.y & time & time\\_type\\\\\n",
       "  & <chr> & <int> & <chr> & <int> & <chr> & <chr>\\\\\n",
       "\\hline\n",
       "\tAAACCCAAGACGCTCC-1\\_3\\_3-8 & AAACCCAAGACGCTCC-1\\_3\\_3-8  &  9722 & HYPO Ma &  8019 & J9  & J9\\_HYPO Ma \\\\\n",
       "\tAAACCCAAGACTGGGT-1\\_1\\_4-10 & AAACCCAAGACTGGGT-1\\_1\\_4-10 & 22133 & HYPO Ma & 18237 & J11 & J11\\_HYPO Ma\\\\\n",
       "\tAAACCCAAGCAACAGC-1\\_1\\_4-10 & AAACCCAAGCAACAGC-1\\_1\\_4-10 & 18157 & TE Ma   & 18238 & J11 & J11\\_TE Ma  \\\\\n",
       "\tAAACCCAAGCCGTTGC-1\\_4\\_3-9 & AAACCCAAGCCGTTGC-1\\_4\\_3-9  & 14538 & HYPO Ve & 10880 & J9  & J9\\_HYPO Ve \\\\\n",
       "\tAAACCCAAGGCCCACT-1\\_2\\_4-11 & AAACCCAAGGCCCACT-1\\_2\\_4-11 & 27514 & TE Gr   & 27711 & J11 & J11\\_TE Gr  \\\\\n",
       "\tAAACCCAAGGTGCTAG-1\\_3\\_3-8 & AAACCCAAGGTGCTAG-1\\_3\\_3-8  &  9723 & HYPO Ma &  8020 & J9  & J9\\_HYPO Ma \\\\\n",
       "\\end{tabular}\n"
      ],
      "text/markdown": [
       "\n",
       "A data.frame: 6 × 6\n",
       "\n",
       "| <!--/--> | cell &lt;chr&gt; | index.x &lt;int&gt; | cluster &lt;chr&gt; | index.y &lt;int&gt; | time &lt;chr&gt; | time_type &lt;chr&gt; |\n",
       "|---|---|---|---|---|---|---|\n",
       "| AAACCCAAGACGCTCC-1_3_3-8 | AAACCCAAGACGCTCC-1_3_3-8  |  9722 | HYPO Ma |  8019 | J9  | J9_HYPO Ma  |\n",
       "| AAACCCAAGACTGGGT-1_1_4-10 | AAACCCAAGACTGGGT-1_1_4-10 | 22133 | HYPO Ma | 18237 | J11 | J11_HYPO Ma |\n",
       "| AAACCCAAGCAACAGC-1_1_4-10 | AAACCCAAGCAACAGC-1_1_4-10 | 18157 | TE Ma   | 18238 | J11 | J11_TE Ma   |\n",
       "| AAACCCAAGCCGTTGC-1_4_3-9 | AAACCCAAGCCGTTGC-1_4_3-9  | 14538 | HYPO Ve | 10880 | J9  | J9_HYPO Ve  |\n",
       "| AAACCCAAGGCCCACT-1_2_4-11 | AAACCCAAGGCCCACT-1_2_4-11 | 27514 | TE Gr   | 27711 | J11 | J11_TE Gr   |\n",
       "| AAACCCAAGGTGCTAG-1_3_3-8 | AAACCCAAGGTGCTAG-1_3_3-8  |  9723 | HYPO Ma |  8020 | J9  | J9_HYPO Ma  |\n",
       "\n"
      ],
      "text/plain": [
       "                          cell                      index.x cluster index.y\n",
       "AAACCCAAGACGCTCC-1_3_3-8  AAACCCAAGACGCTCC-1_3_3-8   9722   HYPO Ma  8019  \n",
       "AAACCCAAGACTGGGT-1_1_4-10 AAACCCAAGACTGGGT-1_1_4-10 22133   HYPO Ma 18237  \n",
       "AAACCCAAGCAACAGC-1_1_4-10 AAACCCAAGCAACAGC-1_1_4-10 18157   TE Ma   18238  \n",
       "AAACCCAAGCCGTTGC-1_4_3-9  AAACCCAAGCCGTTGC-1_4_3-9  14538   HYPO Ve 10880  \n",
       "AAACCCAAGGCCCACT-1_2_4-11 AAACCCAAGGCCCACT-1_2_4-11 27514   TE Gr   27711  \n",
       "AAACCCAAGGTGCTAG-1_3_3-8  AAACCCAAGGTGCTAG-1_3_3-8   9723   HYPO Ma  8020  \n",
       "                          time time_type  \n",
       "AAACCCAAGACGCTCC-1_3_3-8  J9   J9_HYPO Ma \n",
       "AAACCCAAGACTGGGT-1_1_4-10 J11  J11_HYPO Ma\n",
       "AAACCCAAGCAACAGC-1_1_4-10 J11  J11_TE Ma  \n",
       "AAACCCAAGCCGTTGC-1_4_3-9  J9   J9_HYPO Ve \n",
       "AAACCCAAGGCCCACT-1_2_4-11 J11  J11_TE Gr  \n",
       "AAACCCAAGGTGCTAG-1_3_3-8  J9   J9_HYPO Ma "
      ]
     },
     "metadata": {},
     "output_type": "display_data"
    }
   ],
   "source": [
    "head(cellInfo)"
   ]
  },
  {
   "cell_type": "code",
   "execution_count": 14,
   "id": "cfb01d0b-d71a-40c4-90b1-905cc9f9eb8d",
   "metadata": {
    "vscode": {
     "languageId": "r"
    }
   },
   "outputs": [],
   "source": [
    "regulons_unfiltered <- regulons"
   ]
  },
  {
   "cell_type": "code",
   "execution_count": 15,
   "id": "c767f0f2-547c-47be-b4f1-3b1ce45f33e9",
   "metadata": {
    "vscode": {
     "languageId": "r"
    }
   },
   "outputs": [],
   "source": [
    "regulons_filtered <- readRDS(\"/home/adufour/work/rds_storage/SCENIC/regulons_filterby_rss_tissue_annot.rds\")"
   ]
  },
  {
   "cell_type": "code",
   "execution_count": 16,
   "id": "00f73302-2c79-41e8-a729-194aa5d266f1",
   "metadata": {
    "vscode": {
     "languageId": "r"
    }
   },
   "outputs": [],
   "source": [
    "regulons_te <- regulons[unique(regulons_filtered[regulons_filtered$variable %in% c(\"TE Ma\", \"TE Gr\", \"TE Mu\", \"TE In\", \"TE Ea\", \"TE Lr\", \"TE Il1\", \"TE Mt\"),]$regulons)]"
   ]
  },
  {
   "cell_type": "code",
   "execution_count": 17,
   "id": "c1de6cc7-da3d-4316-9c82-773c454f466a",
   "metadata": {
    "vscode": {
     "languageId": "r"
    }
   },
   "outputs": [],
   "source": [
    "# Split the cells by cluster\n",
    "cellsPerTimeCluster <- split(rownames(cellInfo), cellInfo[,\"cluster\"])\n",
    "regulonAUC_te <- regulonAUC[onlyNonDuplicatedExtended(names(regulons_te)),]\n",
    "# Calculate average expression:\n",
    "                                     \n",
    "regulonActivity_byCellTypeTime <- sapply(cellsPerTimeCluster,\n",
    "                                     function(cells) rowMeans(getAUC(regulonAUC_te)[,cells]))"
   ]
  },
  {
   "cell_type": "code",
   "execution_count": 18,
   "id": "28786be9-05a1-4123-a83e-ea49b6443409",
   "metadata": {
    "vscode": {
     "languageId": "r"
    }
   },
   "outputs": [],
   "source": [
    "liste_a <- c(\"CEBPB (+)\", \"SREBF1 (+)\", \"E2F4 (+)\", \"CEBPG (+)\", \"RELA (+)\", \"CTCF (+)\", \"TCF12 (+)\", \"MAZ (+)\", \"MYC (+)\", \"E2F6 (+)\", \"E2F1 (+)\", \"ZNF143 (+)\",\n",
    "             \"STAT1 (+)\", \"GABPA (+)\", \"BCLAF1 (+)\", \"SP1 (+)\", \"SREBF2 (+)\", \"MAFF (+)\", \"YY1 (+)\", \"ATF6 (+)\", \"FOSB (+)\", \"XBP1 (+)\", \"THAP1 (+)\", \"ETV4 (+)\",\n",
    "             \"FOXA2 (+)\", \"RCOR1 (+)\", \"NFYA (+)\", \"REST (+)\", \"KLF17 (+)\")\n",
    "\n",
    "liste_b <- c(\"MAFG (+)\", \"GFI1B (+)\", \"ZNF148 (+)\", \"KLF15 (+)\", \"HOXA7 (+)\", \"BACH2 (+)\", \"NEUROD2 (+)\", \"SMARCC1 (+)\", \"ETV3 (+)\", \"ZNF281 (+)\", \"MEOX1 (+)\",\n",
    "             \"HOXB6 (+)\", \"ENSSSCG00000021322 (+)\", \"CLOCK (+)\", \"CEBPB (+)\", \"SREBF1 (+)\", \"E2F4 (+)\", \"NR1H4 (+)\", \"FOSL1 (+)\", \"NFYC (+)\", \"ZBTB33 (+)\",\n",
    "             \"TLX3 (+)\", \"KLF9 (+)\", \"HOXA5 (+)\", \"RXRG (+)\", \"MAX (+)\", \"CEBPG (+)\", \"TBR1 (+)\", \"TLX2 (+)\", \"ZIC5 (+)\", \"HMX2 (+)\", \"TBX3 (+)\", \"POU2F2 (+)\",\n",
    "             \"LHX2 (+)\", \"GATA1 (+)\", \"RELA (+)\", \"CTCF (+)\", \"RUNX3 (+)\", \"E2F8 (+)\", \"SETDB1 (+)\", \"KLF8 (+)\", \"EGR2 (+)\", \"MAFK (+)\", \"BARHL1 (+)\", \"TCF12 (+)\",\n",
    "             \"ENSSSCG00000017516 (+)\", \"ATF1 (+)\", \"RFX5 (+)\", \"MAZ (+)\", \"BARHL2 (+)\", \"ENSSSCG00000028997 (+)\", \"KLF3 (+)\", \"HOXB8 (+)\", \"TCF7 (+)\", \"EGR1 (+)\",\n",
    "             \"DLX3 (+)\", \"MBD2 (+)\", \"HNF4G (+)\", \"KLF2 (+)\", \"MITF (+)\", \"FOS (+)\", \"EVX1 (+)\", \"PATZ1 (+)\", \"PPARG (+)\", \"ARNT (+)\", \"SP3 (+)\", \"MYC (+)\",\n",
    "             \"RORC (+)\", \"ELK4 (+)\", \"ZFP42 (+)\", \"ETS2 (+)\", \"LEF1 (+)\", \"HESX1 (+)\", \"ARNT2 (+)\", \"ZNF471 (+)\", \"ZNF454 (+)\", \"UNCX (+)\", \"E2F6 (+)\", \"PBX3 (+)\",\n",
    "             \"CREB1 (+)\", \"E2F1 (+)\", \"EMX1 (+)\", \"ZNF143 (+)\", \"STAT1 (+)\", \"RFX6 (+)\", \"CFP (+)\", \"VEZF1 (+)\", \"ELK3 (+)\", \"ELF4 (+)\", \"BACH1 (+)\", \"CPEB1 (+)\",\n",
    "             \"ARID3A (+)\", \"IRF3 (+)\", \"GABPA (+)\", \"KLF4 (+)\", \"ESRRB (+)\", \"KLF6 (+)\", \"PPARD (+)\", \"IKZF1 (+)\", \"BCLAF1 (+)\", \"IRF1 (+)\", \"MSX1 (+)\", \"PAX5 (+)\",\n",
    "             \"HOXD3 (+)\", \"SOX5 (+)\", \"HOXA2 (+)\", \"MNT (+)\", \"ZIC2 (+)\", \"E2F7 (+)\", \"SP1 (+)\", \"HIF1A (+)\", \"FOXN2 (+)\", \"IRF8 (+)\", \"OTX2 (+)\", \"SREBF2 (+)\",\n",
    "             \"IRF7 (+)\", \"MAFF (+)\", \"YY1 (+)\", \"BHLHE40 (+)\", \"ATF6 (+)\", \"FOSB (+)\", \"LHX1 (+)\", \"HOXB7 (+)\", \"ATF3 (+)\", \"DLX1 (+)\", \"RORB (+)\", \"FOXO4 (+)\",\n",
    "             \"MIXL1 (+)\", \"SEBOX (+)\", \"HOXB5 (+)\", \"XBP1 (+)\", \"TAL1 (+)\", \"SMAD5 (+)\", \"THAP1 (+)\", \"NR2C1 (+)\", \"HOXA10 (+)\", \"KLF5 (+)\", \"ETV4 (+)\", \"KLF12 (+)\",\n",
    "             \"ETV1 (+)\", \"DLX2 (+)\", \"FOXA2 (+)\", \"FOSL2 (+)\", \"NRF1 (+)\", \"ENSSSCG00000000278 (+)\", \"ESR1 (+)\", \"SP4 (+)\", \"HOXA1 (+)\", \"RCOR1 (+)\", \"NR2C2 (+)\",\n",
    "             \"PAX6 (+)\", \"HOXB4 (+)\", \"IKZF2 (+)\", \"HEY1 (+)\", \"STAT3 (+)\", \"ETS1 (+)\", \"CREB5 (+)\", \"NFYA (+)\", \"ELF2 (+)\", \"NFYB (+)\", \"PBX1 (+)\", \"ELF1 (+)\",\n",
    "             \"REST (+)\", \"KLF17 (+)\", \"KLF13 (+)\", \"KLF10 (+)\", \"HOXB3 (+)\", \"TFAP2C (+)\", \"CREB3 (+)\", \"KLF7 (+)\", \"GABPB1 (+)\", \"ESR2 (+)\")\n",
    "\n",
    "liste_c <- c(\"CEBPB (+)\", \"HES6 (+)\", \"SREBF1 (+)\", \"E2F4 (+)\", \"CEBPG (+)\", \"NANOG (+)\", \"RELA (+)\", \"CTCF (+)\", \"GATA4 (+)\", \"CEBPZ (+)\", \"SRF (+)\", \"TCF12 (+)\",\n",
    "             \"NR2F6 (+)\", \"NFKB2 (+)\", \"MAZ (+)\", \"MYC (+)\", \"KLF11 (+)\", \"E2F6 (+)\", \"E2F1 (+)\", \"ZNF143 (+)\", \"STAT1 (+)\", \"GABPA (+)\", \"BCLAF1 (+)\", \"KLF16 (+)\",\n",
    "             \"SP1 (+)\", \"SREBF2 (+)\", \"MAFF (+)\", \"YY1 (+)\", \"ATF6 (+)\", \"FOSB (+)\", \"ZBTB7A (+)\", \"XBP1 (+)\", \"THAP1 (+)\", \"ETV4 (+)\", \"FOXA2 (+)\", \"GATA3 (+)\",\n",
    "             \"ESRRG (+)\", \"RCOR1 (+)\", \"TEAD2 (+)\", \"NFYA (+)\", \"REST (+)\", \"KLF17 (+)\")\n",
    "\n",
    "classif <- function (x) {\n",
    "    if (x %in% liste_a) {\n",
    "        v <- \"1\"\n",
    "        }\n",
    "    else if (x %in% liste_b) {\n",
    "        v <- \"2\"\n",
    "        }\n",
    "    else if (x %in% liste_c) {\n",
    "        v <- \"3\"\n",
    "        }\n",
    "    else {\n",
    "        v <- NA\n",
    "        }\n",
    "    return (v)\n",
    "    }"
   ]
  },
  {
   "cell_type": "code",
   "execution_count": 19,
   "id": "100af262-3b6e-4f9e-b7c0-c889a101295a",
   "metadata": {
    "vscode": {
     "languageId": "r"
    }
   },
   "outputs": [],
   "source": [
    "pch <- lapply(names(regulons_te), classif)"
   ]
  },
  {
   "cell_type": "code",
   "execution_count": 22,
   "id": "d893f66d-339c-4bfb-9ebb-6de41d7335cd",
   "metadata": {
    "vscode": {
     "languageId": "r"
    }
   },
   "outputs": [],
   "source": [
    "mat <- scale(t(regulonActivity_byCellTypeTime[,c(\"TE Ma\", \"TE Gr\", \"TE Mu\", \"TE In\", \"TE Ea\", \"TE Lr\", \"TE Il1\", \"TE Mt\")]), center = T, scale=T)"
   ]
  },
  {
   "cell_type": "code",
   "execution_count": 45,
   "id": "1e7c556a-38ba-4ebf-9605-3e75e0ed48d9",
   "metadata": {
    "vscode": {
     "languageId": "r"
    }
   },
   "outputs": [],
   "source": [
    "library(svglite)"
   ]
  },
  {
   "cell_type": "code",
   "execution_count": 60,
   "id": "c04a97f3-d696-4e68-b6c1-77f1331e31ec",
   "metadata": {
    "vscode": {
     "languageId": "r"
    }
   },
   "outputs": [
    {
     "data": {
      "text/html": [
       "<strong>png:</strong> 2"
      ],
      "text/latex": [
       "\\textbf{png:} 2"
      ],
      "text/markdown": [
       "**png:** 2"
      ],
      "text/plain": [
       "png \n",
       "  2 "
      ]
     },
     "metadata": {},
     "output_type": "display_data"
    }
   ],
   "source": [
    "options(repr.plot.width=25, repr.plot.height=8) # To set the figure size in Jupyter\n",
    "colnames(mat) <- gsub(x = colnames(mat), pattern = \"(+)\", replacement = \"\", fixed = TRUE)\n",
    "ha <- HeatmapAnnotation(Regulons_size = anno_barplot(lengths(regulons_te), height = unit(20, \"mm\")), annotation_name_gp = grid::gpar(fontsize=20), annotation_label = \"Regulons size\")\n",
    "hb <- HeatmapAnnotation(pub = anno_simple(rep(NA,dim(mat)[2]), na_col = \"white\", pch = pch), show_annotation_name = FALSE)\n",
    "col_fun <- colorRamp2(seq(min(mat), max(mat), length = 100), colorRampPalette(rev(brewer.pal(n = 7, name = \"RdYlBu\")))(100))\n",
    "lgd <- list(title = \"Regulon activity\", legend_height = unit(6, \"cm\"), grid_width = unit(1, \"cm\"), labels_gp = gpar(fontsize = 20), title_gp = gpar(fontsize = 18))\n",
    "svglite('/home/adufour/work/notebook/plots/scenic/regulon_expression_te.svg', width = 25, height = 8)\n",
    "hm <- draw(ComplexHeatmap::Heatmap(mat, col = col_fun, rect_gp = gpar(col = \"grey\", lwd = 1), row_names_gp = grid::gpar(fontsize=24),\n",
    "                                   column_names_gp = grid::gpar(fontsize=16, fontface='italic'), top_annotation = ha, bottom_annotation = hb,\n",
    "                                   heatmap_legend_param = lgd), padding = unit(c(2, 2, 2, 2), \"mm\"))\n",
    "dev.off()"
   ]
  },
  {
   "cell_type": "code",
   "execution_count": 72,
   "id": "e55871ba-1e1c-450a-b915-3d877bd1e7ff",
   "metadata": {
    "vscode": {
     "languageId": "r"
    }
   },
   "outputs": [],
   "source": [
    "regulons_hypo <- regulons[unique(regulons_filtered[regulons_filtered$variable %in% c(\"HYPO Ma\", \"HYPO Ve\", \"HYPO In\", \"HYPO Ea\"),]$regulons)]"
   ]
  },
  {
   "cell_type": "code",
   "execution_count": 73,
   "id": "1b0cbed4-3a94-40f2-a3a2-cd91e265d6d8",
   "metadata": {
    "vscode": {
     "languageId": "r"
    }
   },
   "outputs": [],
   "source": [
    "# Split the cells by cluster\n",
    "cellsPerTimeCluster <- split(rownames(cellInfo), cellInfo[,\"cluster\"])\n",
    "regulonAUC_hypo <- regulonAUC[onlyNonDuplicatedExtended(names(regulons_hypo)),]\n",
    "# Calculate average expression:\n",
    "                                     \n",
    "regulonActivity_byCellTypeTime <- sapply(cellsPerTimeCluster,\n",
    "                                     function(cells) rowMeans(getAUC(regulonAUC_hypo)[,cells]))"
   ]
  },
  {
   "cell_type": "code",
   "execution_count": 74,
   "id": "16789366-18cc-4af2-b30f-53dc4f22ac93",
   "metadata": {
    "vscode": {
     "languageId": "r"
    }
   },
   "outputs": [],
   "source": [
    "mat <- scale(t(regulonActivity_byCellTypeTime[,c(\"HYPO Ma\", \"HYPO Ve\", \"HYPO In\", \"HYPO Ea\")]), center = T, scale=T)"
   ]
  },
  {
   "cell_type": "code",
   "execution_count": 75,
   "id": "6a6ff609-e5b3-4376-b408-21c82088c9e4",
   "metadata": {
    "vscode": {
     "languageId": "r"
    }
   },
   "outputs": [],
   "source": [
    "pch <- lapply(names(regulons_hypo), classif)"
   ]
  },
  {
   "cell_type": "code",
   "execution_count": 76,
   "id": "05e2e4f9-8c80-4a8a-9e29-a308911adbc4",
   "metadata": {
    "vscode": {
     "languageId": "r"
    }
   },
   "outputs": [
    {
     "data": {
      "text/html": [
       "<strong>png:</strong> 2"
      ],
      "text/latex": [
       "\\textbf{png:} 2"
      ],
      "text/markdown": [
       "**png:** 2"
      ],
      "text/plain": [
       "png \n",
       "  2 "
      ]
     },
     "metadata": {},
     "output_type": "display_data"
    }
   ],
   "source": [
    "options(repr.plot.width=25, repr.plot.height=8) # To set the figure size in Jupyter\n",
    "colnames(mat) <- gsub(x = colnames(mat), pattern = \"(+)\", replacement = \"\", fixed = TRUE)\n",
    "ha <- HeatmapAnnotation(Regulons_size = anno_barplot(lengths(regulons_hypo), height = unit(20, \"mm\")), annotation_name_gp = grid::gpar(fontsize=20), annotation_label = \"Regulons size\")\n",
    "hb <- HeatmapAnnotation(pub = anno_simple(rep(NA,dim(mat)[2]), na_col = \"white\", pch = pch), show_annotation_name = FALSE)\n",
    "col_fun <- colorRamp2(seq(min(mat), max(mat), length = 100), colorRampPalette(rev(brewer.pal(n = 7, name = \"RdYlBu\")))(100))\n",
    "lgd <- list(title = \"Regulon activity\", legend_height = unit(6, \"cm\"), grid_width = unit(1, \"cm\"), labels_gp = gpar(fontsize = 20), title_gp = gpar(fontsize = 18))\n",
    "svglite('/home/adufour/work/notebook/plots/scenic/regulon_expression_hypo.svg', width = 18, height = 7)\n",
    "hm <- draw(ComplexHeatmap::Heatmap(mat, col = col_fun, rect_gp = gpar(col = \"grey\", lwd = 1), row_names_gp = grid::gpar(fontsize=24),\n",
    "                                   column_names_gp = grid::gpar(fontsize=16, fontface='italic'), top_annotation = ha, bottom_annotation = hb,\n",
    "                                   heatmap_legend_param = lgd), padding = unit(c(2, 2, 2, 2), \"mm\"))\n",
    "dev.off()"
   ]
  },
  {
   "cell_type": "code",
   "execution_count": 77,
   "id": "446e09f1-6660-47ba-afae-e76885274938",
   "metadata": {
    "vscode": {
     "languageId": "r"
    }
   },
   "outputs": [],
   "source": [
    "regulons_epi <- regulons[unique(regulons_filtered[regulons_filtered$variable %in% c(\"ICM_E5\", \"EPI_E7\", \"EPI_E9\", \"EPI_E11\"),]$regulons)]"
   ]
  },
  {
   "cell_type": "code",
   "execution_count": 78,
   "id": "834ee643-e02b-46ee-936f-f4e54b4cc594",
   "metadata": {
    "vscode": {
     "languageId": "r"
    }
   },
   "outputs": [],
   "source": [
    "# Split the cells by cluster\n",
    "cellsPerTimeCluster <- split(rownames(cellInfo), cellInfo[,\"cluster\"])\n",
    "regulonAUC_epi <- regulonAUC[onlyNonDuplicatedExtended(names(regulons_epi)),]\n",
    "# Calculate average expression:\n",
    "                                     \n",
    "regulonActivity_byCellTypeTime <- sapply(cellsPerTimeCluster,\n",
    "                                     function(cells) rowMeans(getAUC(regulonAUC_epi)[,cells]))"
   ]
  },
  {
   "cell_type": "code",
   "execution_count": 79,
   "id": "96057042-db71-49c2-b220-6f3e57ff3a7b",
   "metadata": {
    "vscode": {
     "languageId": "r"
    }
   },
   "outputs": [],
   "source": [
    "mat <- scale(t(regulonActivity_byCellTypeTime[,c(\"ICM_E5\", \"EPI_E7\", \"EPI_E9\", \"EPI_E11\")]), center = T, scale=T)"
   ]
  },
  {
   "cell_type": "code",
   "execution_count": 80,
   "id": "96a1c871-cbb6-4cf2-a05f-ec4fbfab30c1",
   "metadata": {
    "vscode": {
     "languageId": "r"
    }
   },
   "outputs": [],
   "source": [
    "pch <- lapply(names(regulons_epi), classif)"
   ]
  },
  {
   "cell_type": "code",
   "execution_count": 81,
   "id": "1333c82b-a889-4603-8469-544b6f4b5ba6",
   "metadata": {
    "vscode": {
     "languageId": "r"
    }
   },
   "outputs": [
    {
     "data": {
      "text/html": [
       "<strong>png:</strong> 2"
      ],
      "text/latex": [
       "\\textbf{png:} 2"
      ],
      "text/markdown": [
       "**png:** 2"
      ],
      "text/plain": [
       "png \n",
       "  2 "
      ]
     },
     "metadata": {},
     "output_type": "display_data"
    }
   ],
   "source": [
    "options(repr.plot.width=25, repr.plot.height=8) # To set the figure size in Jupyter\n",
    "colnames(mat) <- gsub(x = colnames(mat), pattern = \"(+)\", replacement = \"\", fixed = TRUE)\n",
    "ha <- HeatmapAnnotation(Regulons_size = anno_barplot(lengths(regulons_epi), height = unit(20, \"mm\")), annotation_name_gp = grid::gpar(fontsize=20), annotation_label = \"Regulons size\")\n",
    "hb <- HeatmapAnnotation(pub = anno_simple(rep(NA,dim(mat)[2]), na_col = \"white\", pch = pch), show_annotation_name = FALSE)\n",
    "col_fun <- colorRamp2(seq(min(mat), max(mat), length = 100), colorRampPalette(rev(brewer.pal(n = 7, name = \"RdYlBu\")))(100))\n",
    "lgd <- list(title = \"Regulon activity\", legend_height = unit(6, \"cm\"), grid_width = unit(1, \"cm\"), labels_gp = gpar(fontsize = 20), title_gp = gpar(fontsize = 18))\n",
    "row_order <- rev(c(\"ICM_E5\", \"EPI_E7\", \"EPI_E9\", \"EPI_E11\"))\n",
    "svglite('/home/adufour/work/notebook/plots/scenic/regulon_expression_epiblast.svg', width = 17, height = 7)\n",
    "hm <- draw(ComplexHeatmap::Heatmap(mat, col = col_fun, rect_gp = gpar(col = \"grey\", lwd = 1), row_names_gp = grid::gpar(fontsize=24),\n",
    "                                   column_names_gp = grid::gpar(fontsize=16, fontface='italic'), top_annotation = ha, row_order = row_order, bottom_annotation = hb,\n",
    "                                   heatmap_legend_param = lgd), padding = unit(c(2, 2, 2, 2), \"mm\"))\n",
    "dev.off()"
   ]
  }
 ],
 "metadata": {
  "kernelspec": {
   "display_name": "R",
   "language": "R",
   "name": "ir"
  },
  "language_info": {
   "codemirror_mode": "r",
   "file_extension": ".r",
   "mimetype": "text/x-r-source",
   "name": "R",
   "pygments_lexer": "r",
   "version": "4.1.3"
  }
 },
 "nbformat": 4,
 "nbformat_minor": 5
}

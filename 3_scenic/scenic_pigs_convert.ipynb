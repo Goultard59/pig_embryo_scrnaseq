{
 "cells": [
  {
   "cell_type": "code",
   "execution_count": 1,
   "id": "82549758-5761-489d-abe6-175111a77c75",
   "metadata": {
    "vscode": {
     "languageId": "r"
    }
   },
   "outputs": [
    {
     "name": "stderr",
     "output_type": "stream",
     "text": [
      "\n",
      "Attachement du package : ‘SCopeLoomR’\n",
      "\n",
      "\n",
      "L'objet suivant est masqué depuis ‘package:base’:\n",
      "\n",
      "    flush\n",
      "\n",
      "\n",
      "\n",
      "Attachement du package : ‘SCENIC’\n",
      "\n",
      "\n",
      "L'objet suivant est masqué depuis ‘package:AUCell’:\n",
      "\n",
      "    plotEmb_rgb\n",
      "\n",
      "\n",
      "KernSmooth 2.23 loaded\n",
      "Copyright M. P. Wand 1997-2009\n",
      "\n",
      "Le chargement a nécessité le package : ggplot2\n",
      "\n",
      "\n",
      "Attachement du package : ‘plotly’\n",
      "\n",
      "\n",
      "L'objet suivant est masqué depuis ‘package:ggplot2’:\n",
      "\n",
      "    last_plot\n",
      "\n",
      "\n",
      "L'objet suivant est masqué depuis ‘package:stats’:\n",
      "\n",
      "    filter\n",
      "\n",
      "\n",
      "L'objet suivant est masqué depuis ‘package:graphics’:\n",
      "\n",
      "    layout\n",
      "\n",
      "\n",
      "========================================\n",
      "ComplexHeatmap version 2.10.0\n",
      "Bioconductor page: http://bioconductor.org/packages/ComplexHeatmap/\n",
      "Github page: https://github.com/jokergoo/ComplexHeatmap\n",
      "Documentation: http://jokergoo.github.io/ComplexHeatmap-reference\n",
      "\n",
      "If you use it in published research, please cite:\n",
      "Gu, Z. Complex heatmaps reveal patterns and correlations in multidimensional \n",
      "  genomic data. Bioinformatics 2016.\n",
      "\n",
      "The new InteractiveComplexHeatmap package can directly export static \n",
      "complex heatmaps into an interactive Shiny app with zero effort. Have a try!\n",
      "\n",
      "This message can be suppressed by:\n",
      "  suppressPackageStartupMessages(library(ComplexHeatmap))\n",
      "========================================\n",
      "\n",
      "\n",
      "\n",
      "Attachement du package : ‘ComplexHeatmap’\n",
      "\n",
      "\n",
      "L'objet suivant est masqué depuis ‘package:plotly’:\n",
      "\n",
      "    add_heatmap\n",
      "\n",
      "\n",
      "\n",
      "Attachement du package : ‘dplyr’\n",
      "\n",
      "\n",
      "Les objets suivants sont masqués depuis ‘package:data.table’:\n",
      "\n",
      "    between, first, last\n",
      "\n",
      "\n",
      "Les objets suivants sont masqués depuis ‘package:stats’:\n",
      "\n",
      "    filter, lag\n",
      "\n",
      "\n",
      "Les objets suivants sont masqués depuis ‘package:base’:\n",
      "\n",
      "    intersect, setdiff, setequal, union\n",
      "\n",
      "\n"
     ]
    }
   ],
   "source": [
    "# Required packages:\n",
    "library(SCopeLoomR)\n",
    "library(AUCell)\n",
    "library(SCENIC)\n",
    "\n",
    "# For some of the plots:\n",
    "#library(dplyr)\n",
    "library(KernSmooth)\n",
    "library(RColorBrewer)\n",
    "library(plotly)\n",
    "library(BiocParallel)\n",
    "library(grid)\n",
    "library(ComplexHeatmap)\n",
    "library(data.table)\n",
    "library(gprofiler2)\n",
    "library(stringr)\n",
    "library(dplyr)\n",
    "library(tibble)\n",
    "library(parallel)"
   ]
  },
  {
   "cell_type": "code",
   "execution_count": 2,
   "id": "69f6e329-f42b-4f16-ad7e-a60f2d6404c9",
   "metadata": {
    "vscode": {
     "languageId": "r"
    }
   },
   "outputs": [
    {
     "data": {
      "text/html": [
       "'/work/adufour/notebook/scenic/visualisation_resultats'"
      ],
      "text/latex": [
       "'/work/adufour/notebook/scenic/visualisation\\_resultats'"
      ],
      "text/markdown": [
       "'/work/adufour/notebook/scenic/visualisation_resultats'"
      ],
      "text/plain": [
       "[1] \"/work/adufour/notebook/scenic/visualisation_resultats\""
      ]
     },
     "metadata": {},
     "output_type": "display_data"
    }
   ],
   "source": [
    "getwd()"
   ]
  },
  {
   "cell_type": "code",
   "execution_count": 3,
   "id": "90933197-5543-4b8e-b56f-6e68eccb78bd",
   "metadata": {
    "vscode": {
     "languageId": "r"
    }
   },
   "outputs": [],
   "source": [
    "options(repr.plot.width = 18, repr.plot.height = 17, repr.plot.pointsize = 24)"
   ]
  },
  {
   "cell_type": "code",
   "execution_count": 5,
   "id": "eb2c169f-e146-4633-86b0-1b1267152238",
   "metadata": {
    "vscode": {
     "languageId": "r"
    }
   },
   "outputs": [],
   "source": [
    "setwd(\"/home/adufour/work/scenic/scenic_pig/direct_annot_v6/out\")"
   ]
  },
  {
   "cell_type": "code",
   "execution_count": 10,
   "id": "1019d67e-7b89-41fb-84b1-4064576ca78d",
   "metadata": {
    "vscode": {
     "languageId": "r"
    }
   },
   "outputs": [
    {
     "data": {
      "text/html": [
       "TRUE"
      ],
      "text/latex": [
       "TRUE"
      ],
      "text/markdown": [
       "TRUE"
      ],
      "text/plain": [
       "[1] TRUE"
      ]
     },
     "metadata": {},
     "output_type": "display_data"
    },
    {
     "data": {
      "text/html": [
       "TRUE"
      ],
      "text/latex": [
       "TRUE"
      ],
      "text/markdown": [
       "TRUE"
      ],
      "text/plain": [
       "[1] TRUE"
      ]
     },
     "metadata": {},
     "output_type": "display_data"
    }
   ],
   "source": [
    "scenicLoomPath <- file.path(\"/home/adufour/work/scenic/scenic_pig/direct_annot_v6/out/scenic/10x_PBMC/scenic_visualize.loom\")\n",
    "motifEnrichmentFile <- file.path(\"/home/adufour/work/scenic/scenic_pig/direct_annot_v6/out/scenic/10x_PBMC/multi_runs_cistarget/multi_runs_features_mtf.csv.gz\")\n",
    "scenicLoomPath2 <- file.path(\"/home/adufour/work/scenic/scenic_pig/pigs.loom\")\n",
    "file.exists(scenicLoomPath)\n",
    "file.exists(motifEnrichmentFile)"
   ]
  },
  {
   "cell_type": "code",
   "execution_count": 11,
   "id": "ca80cd21-123f-44cc-846b-eb2da0ecd1c2",
   "metadata": {
    "vscode": {
     "languageId": "r"
    }
   },
   "outputs": [],
   "source": [
    "loom <- open_loom(scenicLoomPath)\n",
    "    # Read information from loom file:\n",
    "    exprMat <- get_dgem(loom)\n",
    "        exprMat_log <- log2(exprMat+1) # Better if it is logged/normalized\n",
    "    regulons_incidMat <- get_regulons(loom, column.attr.name=\"Regulons\")\n",
    "        regulons <- regulonsToGeneLists(regulons_incidMat)\n",
    "    regulonAUC <- get_regulons_AUC(loom, column.attr.name='RegulonsAUC')\n",
    "    regulonAucThresholds <- get_regulon_thresholds(loom)\n",
    "        regulonAucThresholds <- setNames(as.numeric(names(regulonAucThresholds)), regulonAucThresholds)\n",
    "    embeddings <- get_embeddings(loom)\n",
    "close_loom(loom)"
   ]
  },
  {
   "cell_type": "code",
   "execution_count": 12,
   "id": "b1f35334-4771-4ca1-9257-e842b14efa22",
   "metadata": {
    "vscode": {
     "languageId": "r"
    }
   },
   "outputs": [],
   "source": [
    "cellInfo <- read.csv(file = '/home/adufour/work/notebook/scenic/preparation/cell_type.csv')"
   ]
  },
  {
   "cell_type": "code",
   "execution_count": 13,
   "id": "50bab9aa-3b62-4c30-a2c1-e49570951c69",
   "metadata": {
    "vscode": {
     "languageId": "r"
    }
   },
   "outputs": [],
   "source": [
    "motifEnrichment <- data.table::fread(motifEnrichmentFile, header=T, skip=1)[-3,]\n",
    "colnames(motifEnrichment)[1:2] <- c(\"TF\", \"MotifID\")\n",
    "motifEnrichment = motifEnrichment[-1,]"
   ]
  },
  {
   "cell_type": "code",
   "execution_count": 14,
   "id": "17217263-eab2-48e4-9fd7-28e6607fa9de",
   "metadata": {
    "vscode": {
     "languageId": "r"
    }
   },
   "outputs": [],
   "source": [
    "convertmotifench <- gconvert(\n",
    "motifEnrichment$TF,\n",
    "organism = \"sscrofa\",\n",
    "numeric_ns = \"\",\n",
    "mthreshold = Inf,\n",
    "filter_na = TRUE\n",
    ")"
   ]
  },
  {
   "cell_type": "code",
   "execution_count": 15,
   "id": "234feda1-d4f2-4518-ab8e-3ed0809ddf2f",
   "metadata": {
    "vscode": {
     "languageId": "r"
    }
   },
   "outputs": [],
   "source": [
    "motifEnrichment$TF <- convertmotifench$name"
   ]
  },
  {
   "cell_type": "code",
   "execution_count": 16,
   "id": "cc745a75-459c-49cb-9059-71cd7196fb50",
   "metadata": {
    "vscode": {
     "languageId": "r"
    }
   },
   "outputs": [],
   "source": [
    "regulon_name <- str_split(rownames(regulonAUC), \"_\", simplify = TRUE)"
   ]
  },
  {
   "cell_type": "code",
   "execution_count": 17,
   "id": "05e76398-7392-491d-a066-a415070163fa",
   "metadata": {
    "vscode": {
     "languageId": "r"
    }
   },
   "outputs": [],
   "source": [
    "regulon_name_converted <- gconvert(\n",
    "regulon_name[,1],\n",
    "organism = \"sscrofa\",\n",
    "numeric_ns = \"\",\n",
    "mthreshold = Inf,\n",
    "filter_na = TRUE\n",
    ")"
   ]
  },
  {
   "cell_type": "code",
   "execution_count": 18,
   "id": "5762641b-fad1-4dbf-b851-613fe92c7d05",
   "metadata": {
    "vscode": {
     "languageId": "r"
    }
   },
   "outputs": [],
   "source": [
    "regulon_name_converted$concatenate <- paste(regulon_name_converted$name, regulon_name[,2])"
   ]
  },
  {
   "cell_type": "code",
   "execution_count": 19,
   "id": "1601a208-7b80-4be5-8015-1f9a466e8a13",
   "metadata": {
    "vscode": {
     "languageId": "r"
    }
   },
   "outputs": [],
   "source": [
    "regulonAUC@NAMES <- regulon_name_converted$concatenate"
   ]
  },
  {
   "cell_type": "markdown",
   "id": "dd337003-e885-4737-939b-09a0c55a6e9e",
   "metadata": {},
   "source": [
    "treshold"
   ]
  },
  {
   "cell_type": "code",
   "execution_count": 20,
   "id": "5a78bc9d-b8fd-43be-a491-dc7d1a52b08a",
   "metadata": {
    "vscode": {
     "languageId": "r"
    }
   },
   "outputs": [],
   "source": [
    "regulon_name_thre <- str_split(names(regulonAucThresholds), \"_\", simplify = TRUE)"
   ]
  },
  {
   "cell_type": "code",
   "execution_count": 21,
   "id": "59e69695-d1b4-4321-9b02-50ad6f05219c",
   "metadata": {
    "vscode": {
     "languageId": "r"
    }
   },
   "outputs": [],
   "source": [
    "regulon_name_converted_thre <- gconvert(\n",
    "regulon_name_thre[,1],\n",
    "organism = \"sscrofa\",\n",
    "numeric_ns = \"\",\n",
    "mthreshold = Inf,\n",
    "filter_na = TRUE\n",
    ")"
   ]
  },
  {
   "cell_type": "code",
   "execution_count": 22,
   "id": "ca0bb2bb-98bc-45b9-b941-ddcd5e6238cc",
   "metadata": {
    "vscode": {
     "languageId": "r"
    }
   },
   "outputs": [],
   "source": [
    "regulon_name_converted_thre$concatenate <- paste(regulon_name_converted_thre$name, regulon_name_thre[,2])"
   ]
  },
  {
   "cell_type": "code",
   "execution_count": 23,
   "id": "65f4bcb3-a15d-49b6-a06c-390e93079a82",
   "metadata": {
    "vscode": {
     "languageId": "r"
    }
   },
   "outputs": [],
   "source": [
    "names(regulonAucThresholds) <- regulon_name_converted_thre$concatenate"
   ]
  },
  {
   "cell_type": "code",
   "execution_count": 24,
   "id": "f8191dd1-1281-49ce-8183-b3cfc6661c31",
   "metadata": {
    "vscode": {
     "languageId": "r"
    }
   },
   "outputs": [],
   "source": [
    "rownames(regulons_incidMat) <- regulon_name_converted_thre$concatenate"
   ]
  },
  {
   "cell_type": "code",
   "execution_count": 25,
   "id": "2dfe897a-0c25-40e9-b2c3-d107bbbd4ef6",
   "metadata": {
    "vscode": {
     "languageId": "r"
    }
   },
   "outputs": [],
   "source": [
    "dataframeincid <- gconvert(\n",
    "colnames(regulons_incidMat),\n",
    "organism = \"sscrofa\",\n",
    "numeric_ns = \"\",\n",
    "mthreshold = Inf,\n",
    "filter_na = FALSE\n",
    ")"
   ]
  },
  {
   "cell_type": "code",
   "execution_count": 27,
   "id": "b773464f-3269-4922-b011-3af2c319bde0",
   "metadata": {
    "vscode": {
     "languageId": "r"
    }
   },
   "outputs": [],
   "source": [
    "colnames(regulons_incidMat) <- dataframeincid$name"
   ]
  },
  {
   "cell_type": "code",
   "execution_count": 28,
   "id": "510a41b3-c2cb-4c2b-a942-719ff731fe68",
   "metadata": {
    "vscode": {
     "languageId": "r"
    }
   },
   "outputs": [],
   "source": [
    "targetconverter <- function(x) {\n",
    "    convertmotifench <- gconvert(\n",
    "    x,\n",
    "    organism = \"sscrofa\",\n",
    "    numeric_ns = \"\",\n",
    "    mthreshold = Inf,\n",
    "    filter_na = TRUE\n",
    "    )\n",
    "    return(convertmotifench$name)\n",
    "}"
   ]
  },
  {
   "cell_type": "code",
   "execution_count": 29,
   "id": "bdf04151-2d97-4760-9a31-bad8ab2d3bb4",
   "metadata": {
    "vscode": {
     "languageId": "r"
    }
   },
   "outputs": [],
   "source": [
    "names(regulons) <- regulon_name_converted_thre$concatenate"
   ]
  },
  {
   "cell_type": "code",
   "execution_count": 30,
   "id": "44834af4-0432-45af-ae47-e4be36243800",
   "metadata": {
    "vscode": {
     "languageId": "r"
    }
   },
   "outputs": [],
   "source": [
    "regulonsbis <- regulons"
   ]
  },
  {
   "cell_type": "code",
   "execution_count": 31,
   "id": "17df42b1-777f-4629-8437-99b1be5eac8d",
   "metadata": {
    "vscode": {
     "languageId": "r"
    }
   },
   "outputs": [],
   "source": [
    "regulons <-mclapply(regulons, targetconverter,  mc.cores = 10)"
   ]
  },
  {
   "cell_type": "code",
   "execution_count": 32,
   "id": "23c41958-23bb-4f61-ade0-e25266f39100",
   "metadata": {
    "vscode": {
     "languageId": "r"
    }
   },
   "outputs": [],
   "source": [
    "save.image(\"/home/adufour/work/rds_storage/SCENIC/scenic_converted.RData\")"
   ]
  }
 ],
 "metadata": {
  "kernelspec": {
   "display_name": "R",
   "language": "R",
   "name": "ir"
  },
  "language_info": {
   "codemirror_mode": "r",
   "file_extension": ".r",
   "mimetype": "text/x-r-source",
   "name": "R",
   "pygments_lexer": "r",
   "version": "4.1.3"
  }
 },
 "nbformat": 4,
 "nbformat_minor": 5
}

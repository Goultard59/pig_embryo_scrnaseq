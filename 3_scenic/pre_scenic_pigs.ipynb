{
 "cells": [
  {
   "cell_type": "markdown",
   "id": "ee2e49b3-9f3f-4ac5-a1cb-2ae8ead15bcf",
   "metadata": {},
   "source": [
    "Import package"
   ]
  },
  {
   "cell_type": "code",
   "execution_count": 1,
   "id": "fc758e70",
   "metadata": {},
   "outputs": [],
   "source": [
    "import scanpy as sc\n",
    "import numpy as np\n",
    "import loompy as lp\n",
    "import os\n",
    "import anndata2ri\n",
    "import pandas as pd"
   ]
  },
  {
   "cell_type": "code",
   "execution_count": 3,
   "id": "4e425bbd-4695-4007-90a9-2dd3b0fb124c",
   "metadata": {},
   "outputs": [],
   "source": [
    "annot = sc.read_h5ad(\"/home/adufour/work/rds_storage/embryo_allstages.h5ad\")"
   ]
  },
  {
   "cell_type": "markdown",
   "id": "5abaa52b-3ea5-4915-8c40-b19d5d8dc099",
   "metadata": {},
   "source": [
    "Load 10x matrix"
   ]
  },
  {
   "cell_type": "code",
   "execution_count": 5,
   "id": "ea56e730-c31d-4a14-9d0f-b9fcd742e4a0",
   "metadata": {},
   "outputs": [
    {
     "name": "stderr",
     "output_type": "stream",
     "text": [
      "/work/adufour/anaconda3/envs/singlecell/lib/python3.9/site-packages/anndata/_core/anndata.py:1830: UserWarning: Variable names are not unique. To make them unique, call `.var_names_make_unique`.\n",
      "  utils.warn_names_duplicates(\"var\")\n"
     ]
    }
   ],
   "source": [
    "adata1 = sc.read_10x_mtx('/home/adufour/work/fragencode/workspace/plus4pigs/results/run_cellranger_count/ensembl/J9_1embryon_10_26/outs/filtered_feature_bc_matrix', make_unique=False)"
   ]
  },
  {
   "cell_type": "markdown",
   "id": "3521c985-ab02-4fa7-9f65-fb659c91ce87",
   "metadata": {},
   "source": [
    "Rename for metadata compatibility"
   ]
  },
  {
   "cell_type": "code",
   "execution_count": 11,
   "id": "170d52bf-3e59-49b9-9604-4cd9107fdb2b",
   "metadata": {},
   "outputs": [],
   "source": [
    "adata1.obs.rename(index=lambda s: s + \"_1_3\", inplace = True)"
   ]
  },
  {
   "cell_type": "markdown",
   "id": "2d36d316-3f85-4fe4-bb42-521481d8c938",
   "metadata": {},
   "source": [
    "Filter cells"
   ]
  },
  {
   "cell_type": "code",
   "execution_count": null,
   "id": "be0af293-7482-4fe3-8dbe-8b8ed7090c9f",
   "metadata": {},
   "outputs": [],
   "source": [
    "adata1 = adata1[adata1.obs.index.isin(list(annot[annot.obs['SAMP'] == \"D9-1\"].obs.index))]"
   ]
  },
  {
   "cell_type": "code",
   "execution_count": null,
   "id": "b8bf0ce8-49c7-4928-8279-6e4f2cdd3bc1",
   "metadata": {},
   "outputs": [],
   "source": [
    "adata1.obs = annot[annot.obs['SAMP'] == \"D9-1\"].obs\n",
    "adata1.var_names_make_unique()"
   ]
  },
  {
   "cell_type": "code",
   "execution_count": null,
   "id": "29f6f097-42f3-471c-8522-f659a59f523b",
   "metadata": {},
   "outputs": [],
   "source": [
    "adata2 = sc.read_10x_mtx('/home/adufour/work/run_cellranger_count/ensembl/J9_3embryons_10_26/outs/filtered_feature_bc_matrix', make_unique=False)"
   ]
  },
  {
   "cell_type": "code",
   "execution_count": null,
   "id": "f6576fc9-950b-4700-a34a-e23166ccbbc4",
   "metadata": {},
   "outputs": [],
   "source": [
    "adata2.obs.rename(index=lambda s: s + \"_2_3\", inplace = True)"
   ]
  },
  {
   "cell_type": "code",
   "execution_count": null,
   "id": "d648aa9b-f35e-4989-a2af-496b8b066a0c",
   "metadata": {},
   "outputs": [],
   "source": [
    "adata2 = adata2[adata2.obs.index.isin(list(annot[annot.obs['SAMP'] == \"D9-2\"].obs.index))]"
   ]
  },
  {
   "cell_type": "code",
   "execution_count": null,
   "id": "b3355ee6-bfae-4465-a9d4-eef44ff12d2f",
   "metadata": {},
   "outputs": [],
   "source": [
    "adata2.obs = annot[annot.obs['SAMP'] == \"D9-2\"].obs\n",
    "adata2.var_names_make_unique()"
   ]
  },
  {
   "cell_type": "code",
   "execution_count": null,
   "id": "5a94d6c0-c651-4d86-a2ff-72c18f8f90ab",
   "metadata": {},
   "outputs": [],
   "source": [
    "adata3 = sc.read_10x_mtx('/home/adufour/work/run_cellranger_count/ensembl/J7_31082017_10_26/outs/filtered_feature_bc_matrix', make_unique=False)"
   ]
  },
  {
   "cell_type": "code",
   "execution_count": null,
   "id": "04a92d86-3d4f-409e-9391-3f82c06fb565",
   "metadata": {},
   "outputs": [],
   "source": [
    "adata3.obs.rename(index=lambda s: s + \"_2_2\", inplace = True)"
   ]
  },
  {
   "cell_type": "code",
   "execution_count": null,
   "id": "97993025-57f5-40a6-be02-907374be22a6",
   "metadata": {},
   "outputs": [],
   "source": [
    "adata3 = adata3[adata3.obs.index.isin(list(annot[annot.obs['SAMP'] == \"D7-2\"].obs.index))]"
   ]
  },
  {
   "cell_type": "code",
   "execution_count": null,
   "id": "a0a52775-3449-4913-aead-df380839e4e9",
   "metadata": {},
   "outputs": [],
   "source": [
    "adata3.obs = annot[annot.obs['SAMP'] == \"D7-2\"].obs\n",
    "adata3.var_names_make_unique()"
   ]
  },
  {
   "cell_type": "code",
   "execution_count": null,
   "id": "80804ecd-6f3e-4519-a7ed-24389e46b6aa",
   "metadata": {},
   "outputs": [],
   "source": [
    "adata4 = sc.read_10x_mtx('/home/adufour/work/run_cellranger_count/ensembl/J7_15112017_10_26/outs/filtered_feature_bc_matrix', make_unique=False)"
   ]
  },
  {
   "cell_type": "code",
   "execution_count": null,
   "id": "8423a60e-7338-4f4b-a469-abac4973c860",
   "metadata": {},
   "outputs": [],
   "source": [
    "adata4.obs.rename(index=lambda s: s + \"_1_2\", inplace = True)"
   ]
  },
  {
   "cell_type": "code",
   "execution_count": null,
   "id": "5bc63df0-1603-4f0e-96ec-be0673eebdb4",
   "metadata": {},
   "outputs": [],
   "source": [
    "adata4 = adata4[adata4.obs.index.isin(list(annot[annot.obs['SAMP'] == \"D7-1\"].obs.index))]"
   ]
  },
  {
   "cell_type": "code",
   "execution_count": null,
   "id": "b9330d4f-0120-4c4e-8f77-0ea372d9fc39",
   "metadata": {},
   "outputs": [],
   "source": [
    "adata4.obs = annot[annot.obs['SAMP'] == \"D7-1\"].obs\n",
    "adata4.var_names_make_unique()"
   ]
  },
  {
   "cell_type": "code",
   "execution_count": null,
   "id": "6298a9ed-e193-4329-a420-c20d3562cba9",
   "metadata": {},
   "outputs": [],
   "source": [
    "adata5 = sc.read_10x_mtx('/home/adufour/work/run_cellranger_count/ensembl/J5_05122021_10_26/outs/filtered_feature_bc_matrix', make_unique=False)"
   ]
  },
  {
   "cell_type": "code",
   "execution_count": null,
   "id": "3d06b039-4706-40d9-9fdb-344aa2b6461d",
   "metadata": {},
   "outputs": [],
   "source": [
    "adata5.obs.rename(index=lambda s: s + \"_1_1\", inplace = True)"
   ]
  },
  {
   "cell_type": "code",
   "execution_count": null,
   "id": "862a7c40-893c-4a1c-b0a5-d9d9dd4e320d",
   "metadata": {},
   "outputs": [],
   "source": [
    "adata5 = adata5[adata5.obs.index.isin(list(annot[annot.obs['SAMP'] == \"D5-1\"].obs.index))]"
   ]
  },
  {
   "cell_type": "code",
   "execution_count": null,
   "id": "6b8d523e-5f50-42ac-b4fc-3c47e4be2ce9",
   "metadata": {},
   "outputs": [],
   "source": [
    "adata5.obs = annot[annot.obs['SAMP'] == \"D5-1\"].obs\n",
    "adata5.var_names_make_unique()"
   ]
  },
  {
   "cell_type": "code",
   "execution_count": null,
   "id": "61e41867-057a-431b-b069-1226d51e20fd",
   "metadata": {},
   "outputs": [],
   "source": [
    "adata6 = sc.read_10x_mtx('/home/adufour/work/run_cellranger_count/ensembl/J5_03062021_10_26/outs/filtered_feature_bc_matrix', make_unique=False)"
   ]
  },
  {
   "cell_type": "code",
   "execution_count": null,
   "id": "34ac1033-04b5-4f55-a9f6-441e644a06bc",
   "metadata": {},
   "outputs": [],
   "source": [
    "adata6.obs.rename(index=lambda s: s + \"_2_1\", inplace = True)"
   ]
  },
  {
   "cell_type": "code",
   "execution_count": null,
   "id": "ce9d4ff6-0f75-4148-9954-a948a1ccf75f",
   "metadata": {},
   "outputs": [],
   "source": [
    "adata6 = adata6[adata6.obs.index.isin(list(annot[annot.obs['SAMP'] == \"D5-2\"].obs.index))]"
   ]
  },
  {
   "cell_type": "code",
   "execution_count": null,
   "id": "d21c4740-6b65-4262-9862-683a410304ca",
   "metadata": {},
   "outputs": [],
   "source": [
    "adata6.obs = annot[annot.obs['SAMP'] == \"D5-2\"].obs\n",
    "adata6.var_names_make_unique()"
   ]
  },
  {
   "cell_type": "code",
   "execution_count": null,
   "id": "0c974dfc-6b2f-4a21-a633-c1ac498af46e",
   "metadata": {},
   "outputs": [],
   "source": [
    "adata7 = sc.read_10x_mtx('/home/adufour/work/run_cellranger_count/ensembl/J7_3_20210825_10_26/outs/filtered_feature_bc_matrix', make_unique=False)"
   ]
  },
  {
   "cell_type": "code",
   "execution_count": null,
   "id": "20ea53f7-6282-409c-9b19-eb12becf249c",
   "metadata": {},
   "outputs": [],
   "source": [
    "adata7.obs.rename(index=lambda s: s + \"_3_2\", inplace = True)"
   ]
  },
  {
   "cell_type": "code",
   "execution_count": null,
   "id": "8c558e91-b0fa-4154-96ee-aab79f5a9e72",
   "metadata": {},
   "outputs": [],
   "source": [
    "adata7 = adata7[adata7.obs.index.isin(list(annot[annot.obs['SAMP'] == \"D7-3\"].obs.index))]"
   ]
  },
  {
   "cell_type": "code",
   "execution_count": null,
   "id": "59951418-db5f-4f61-9879-c94433274f1e",
   "metadata": {},
   "outputs": [],
   "source": [
    "adata7.obs = annot[annot.obs['SAMP'] == \"D7-3\"].obs\n",
    "adata7.var_names_make_unique()"
   ]
  },
  {
   "cell_type": "code",
   "execution_count": null,
   "id": "6cf26be4-12f8-4976-90c4-0a689cf6fc0f",
   "metadata": {},
   "outputs": [],
   "source": [
    "adata8 = sc.read_10x_mtx('/home/adufour/work/run_cellranger_count/ensembl/J7_4_20210825_10_26/outs/filtered_feature_bc_matrix', make_unique=False)"
   ]
  },
  {
   "cell_type": "code",
   "execution_count": null,
   "id": "fe92130c-1d82-4b7b-b35a-023270ab138b",
   "metadata": {},
   "outputs": [],
   "source": [
    "adata8.obs.rename(index=lambda s: s + \"_4_2\", inplace = True)"
   ]
  },
  {
   "cell_type": "code",
   "execution_count": null,
   "id": "41623a0a-f4c7-4fbb-8508-b71f12246a69",
   "metadata": {},
   "outputs": [],
   "source": [
    "adata8 = adata8[adata8.obs.index.isin(list(annot[annot.obs['SAMP'] == \"D7-4\"].obs.index))]"
   ]
  },
  {
   "cell_type": "code",
   "execution_count": null,
   "id": "0eef73c3-1e26-41b4-b37a-435a59f2d1b9",
   "metadata": {},
   "outputs": [],
   "source": [
    "adata8.obs = annot[annot.obs['SAMP'] == \"D7-4\"].obs\n",
    "adata8.var_names_make_unique()"
   ]
  },
  {
   "cell_type": "code",
   "execution_count": null,
   "id": "913cf0c5-e86d-4458-8385-4a6171e69458",
   "metadata": {},
   "outputs": [],
   "source": [
    "adata9 = sc.read_10x_mtx('/home/adufour/work/run_cellranger_count/ensembl/J9_3_20210825_10_26/outs/filtered_feature_bc_matrix', make_unique=False)"
   ]
  },
  {
   "cell_type": "code",
   "execution_count": null,
   "id": "39164cbd-c6c9-40ff-972f-282e92b025e2",
   "metadata": {},
   "outputs": [],
   "source": [
    "adata9.obs.rename(index=lambda s: s + \"_3_3\", inplace = True)"
   ]
  },
  {
   "cell_type": "code",
   "execution_count": null,
   "id": "80f12f1e-da33-446b-b748-c1dce03fe47b",
   "metadata": {},
   "outputs": [],
   "source": [
    "adata9 = adata9[adata9.obs.index.isin(list(annot[annot.obs['SAMP'] == \"D9-3\"].obs.index))]"
   ]
  },
  {
   "cell_type": "code",
   "execution_count": null,
   "id": "fdeb1d79-74dd-4378-843d-3690288e0110",
   "metadata": {},
   "outputs": [],
   "source": [
    "adata9.obs = annot[annot.obs['SAMP'] == \"D9-3\"].obs\n",
    "adata9.var_names_make_unique()"
   ]
  },
  {
   "cell_type": "code",
   "execution_count": null,
   "id": "998494a5-4845-413d-a0d4-ed86bed08c71",
   "metadata": {},
   "outputs": [],
   "source": [
    "adata10 = sc.read_10x_mtx('/home/adufour/work/run_cellranger_count/ensembl/J9_4_20210825_10_26/outs/filtered_feature_bc_matrix', make_unique=False)"
   ]
  },
  {
   "cell_type": "code",
   "execution_count": null,
   "id": "ac017ebe-ffde-4664-9fa1-37415be8ad17",
   "metadata": {},
   "outputs": [],
   "source": [
    "adata10.obs.rename(index=lambda s: s + \"_4_3\", inplace = True)"
   ]
  },
  {
   "cell_type": "code",
   "execution_count": null,
   "id": "0503f028-a967-44d7-9867-fc681d9e7037",
   "metadata": {},
   "outputs": [],
   "source": [
    "adata10 = adata10[adata10.obs.index.isin(list(annot[annot.obs['SAMP'] == \"D9-4\"].obs.index))]"
   ]
  },
  {
   "cell_type": "code",
   "execution_count": null,
   "id": "b16be7c9-1299-4a80-8b31-e1f183c9acb9",
   "metadata": {},
   "outputs": [],
   "source": [
    "adata10.obs = annot[annot.obs['SAMP'] == \"D9-4\"].obs\n",
    "adata10.var_names_make_unique()"
   ]
  },
  {
   "cell_type": "code",
   "execution_count": null,
   "id": "13770957-31eb-4c94-8340-b55b982282d8",
   "metadata": {},
   "outputs": [],
   "source": [
    "adata11 = sc.read_10x_mtx('/home/adufour/work/run_cellranger_count/ensembl/J11_1_20210825_10_26/outs/filtered_feature_bc_matrix', make_unique=False)"
   ]
  },
  {
   "cell_type": "code",
   "execution_count": null,
   "id": "7c693f49-5e49-43d2-8a26-b8d890010d90",
   "metadata": {},
   "outputs": [],
   "source": [
    "adata11.obs.rename(index=lambda s: s + \"_1_4\", inplace = True)"
   ]
  },
  {
   "cell_type": "code",
   "execution_count": null,
   "id": "00114dab-ee98-4c9c-9f11-be0ab5e93a89",
   "metadata": {},
   "outputs": [],
   "source": [
    "adata11 = adata11[adata11.obs.index.isin(list(annot[annot.obs['SAMP'] == \"D11-1\"].obs.index))]"
   ]
  },
  {
   "cell_type": "code",
   "execution_count": null,
   "id": "754e4411-ba73-4a31-b4e8-84526f1caa9b",
   "metadata": {},
   "outputs": [],
   "source": [
    "adata11.obs = annot[annot.obs['SAMP'] == \"D11-1\"].obs\n",
    "adata11.var_names_make_unique()"
   ]
  },
  {
   "cell_type": "code",
   "execution_count": null,
   "id": "c3d90039-7936-4e7a-9bc2-3831f6a710f0",
   "metadata": {},
   "outputs": [],
   "source": [
    "adata12 = sc.read_10x_mtx('/home/adufour/work/run_cellranger_count/ensembl/J11_2_20210825_10_26/outs/filtered_feature_bc_matrix', make_unique=False)"
   ]
  },
  {
   "cell_type": "code",
   "execution_count": null,
   "id": "48df6f4b-6628-4566-8f11-9a012df4e4d4",
   "metadata": {},
   "outputs": [],
   "source": [
    "adata12.obs.rename(index=lambda s: s + \"_2_4\", inplace = True)"
   ]
  },
  {
   "cell_type": "code",
   "execution_count": null,
   "id": "48bf6a38-5415-47fd-9258-08a92f7ba8ca",
   "metadata": {},
   "outputs": [],
   "source": [
    "adata12 = adata12[adata12.obs.index.isin(list(annot[annot.obs['SAMP'] == \"D11-2\"].obs.index))]"
   ]
  },
  {
   "cell_type": "code",
   "execution_count": null,
   "id": "bd89872b-3542-4269-80c7-33827dffd493",
   "metadata": {},
   "outputs": [],
   "source": [
    "adata12.obs = annot[annot.obs['SAMP'] == \"D11-2\"].obs\n",
    "adata12.var_names_make_unique()"
   ]
  },
  {
   "cell_type": "markdown",
   "id": "b2d13b95-1e9f-44dc-bc30-cf1eae8fa19f",
   "metadata": {},
   "source": [
    "merge all matrix"
   ]
  },
  {
   "cell_type": "code",
   "execution_count": 52,
   "id": "4831604c-77dd-4d3b-aa17-bb93fac481bd",
   "metadata": {},
   "outputs": [],
   "source": [
    "adata = adata1.concatenate(adata2, adata3, adata4, adata5, adata6, adata7, adata8, adata9, adata10, adata11, adata12)"
   ]
  },
  {
   "cell_type": "markdown",
   "id": "99f936cc-00b3-4c64-881f-c71ab40e58af",
   "metadata": {},
   "source": [
    "Convert gene to gene_id"
   ]
  },
  {
   "cell_type": "code",
   "execution_count": 53,
   "id": "e6f94ab5-d996-40b1-85e1-9b91264d1cb3",
   "metadata": {},
   "outputs": [],
   "source": [
    "adata.var['Gene'] = adata.var['gene_ids']\n",
    "adata.obs['CellID'] = adata.obs_names"
   ]
  },
  {
   "cell_type": "markdown",
   "id": "a49f20e1-13d8-4eb7-b910-824389ccbaeb",
   "metadata": {},
   "source": [
    "write looms files"
   ]
  },
  {
   "cell_type": "code",
   "execution_count": 54,
   "id": "3ba53f98-341e-4e62-974e-c4e6c65ca541",
   "metadata": {},
   "outputs": [],
   "source": [
    "adata.write_loom(\"pigs.loom\")"
   ]
  },
  {
   "cell_type": "code",
   "execution_count": 2,
   "id": "973c9976-c524-459c-969d-a93ff2fdfc34",
   "metadata": {},
   "outputs": [
    {
     "data": {
      "text/html": [
       "<p>21304 rows, 34944 columns, 1 layer<br/>(showing up to 10x10)<br/>pigs.loom<br/>name: <em>20211203T124215.722067Z</em><br/>name: <em>3.0.0</em><br/><table><tr><td>&nbsp;</td><td>&nbsp;</td><td>&nbsp;</td><td>&nbsp;</td><td><strong>CellID</strong></td><td>AAACCTGAGAGGTTAT-1_1_3-0</td><td>AAACCTGAGATGTTAG-1_1_3-0</td><td>AAACGGGAGGGATACC-1_1_3-0</td><td>AAAGATGCACTACAGT-1_1_3-0</td><td>AAATGCCTCACCAGGC-1_1_3-0</td><td>AACCATGCAGTTAACC-1_1_3-0</td><td>AACTCAGTCCAGGGCT-1_1_3-0</td><td>AACTCCCAGGAATCGC-1_1_3-0</td><td>AACTCCCTCATCTGTT-1_1_3-0</td><td>AACTTTCCAATCGAAA-1_1_3-0</td><td>...</td></tr><tr><td>&nbsp;</td><td>&nbsp;</td><td>&nbsp;</td><td>&nbsp;</td><td><strong>DF.classifications_0.25_0.09_1026</strong></td><td>Singlet</td><td>Singlet</td><td>Singlet</td><td>Singlet</td><td>Singlet</td><td>Singlet</td><td>Singlet</td><td>Singlet</td><td>Singlet</td><td>Singlet</td><td>...</td></tr><tr><td>&nbsp;</td><td>&nbsp;</td><td>&nbsp;</td><td>&nbsp;</td><td><strong>DF.classifications_0.25_0.09_141</strong></td><td>NA</td><td>NA</td><td>NA</td><td>NA</td><td>NA</td><td>NA</td><td>NA</td><td>NA</td><td>NA</td><td>NA</td><td>...</td></tr><tr><td>&nbsp;</td><td>&nbsp;</td><td>&nbsp;</td><td>&nbsp;</td><td><strong>DF.classifications_0.25_0.09_304</strong></td><td>NA</td><td>NA</td><td>NA</td><td>NA</td><td>NA</td><td>NA</td><td>NA</td><td>NA</td><td>NA</td><td>NA</td><td>...</td></tr><tr><td>&nbsp;</td><td>&nbsp;</td><td>&nbsp;</td><td>&nbsp;</td><td><strong>DF.classifications_0.25_0.09_877</strong></td><td>NA</td><td>NA</td><td>NA</td><td>NA</td><td>NA</td><td>NA</td><td>NA</td><td>NA</td><td>NA</td><td>NA</td><td>...</td></tr><tr><td>&nbsp;</td><td>&nbsp;</td><td>&nbsp;</td><td>&nbsp;</td><td><strong>EMB</strong></td><td>1E</td><td>1E</td><td>1E</td><td>1E</td><td>1E</td><td>1E</td><td>1E</td><td>1E</td><td>1E</td><td>1E</td><td>...</td></tr><tr><td>&nbsp;</td><td>&nbsp;</td><td>&nbsp;</td><td>&nbsp;</td><td><strong>G2M.Score</strong></td><td>-0.09262864473409088</td><td>-0.04007740982524602</td><td>-0.0817419810977422</td><td>0.021018809322216447</td><td>-0.15654692335160494</td><td>-0.19428391014833973</td><td>0.00044760817783598417</td><td>-0.045012194798728256</td><td>0.03646325157687946</td><td>0.027869076298383477</td><td>...</td></tr><tr><td>&nbsp;</td><td>&nbsp;</td><td>&nbsp;</td><td>&nbsp;</td><td><strong>Phase</strong></td><td>G1</td><td>G1</td><td>G1</td><td>G2M</td><td>G1</td><td>G1</td><td>S</td><td>S</td><td>S</td><td>G2M</td><td>...</td></tr><tr><td>&nbsp;</td><td>&nbsp;</td><td>&nbsp;</td><td>&nbsp;</td><td><strong>RNA_snn_res.0.02</strong></td><td>0</td><td>0</td><td>1</td><td>3</td><td>1</td><td>1</td><td>1</td><td>3</td><td>0</td><td>0</td><td>...</td></tr><tr><td>&nbsp;</td><td>&nbsp;</td><td>&nbsp;</td><td>&nbsp;</td><td><strong>RNA_snn_res.0.05</strong></td><td>NA</td><td>NA</td><td>NA</td><td>NA</td><td>NA</td><td>NA</td><td>NA</td><td>NA</td><td>NA</td><td>NA</td><td>...</td></tr><tr><td>&nbsp;</td><td>&nbsp;</td><td>&nbsp;</td><td>&nbsp;</td><td><strong>RNA_snn_res.0.08</strong></td><td>NA</td><td>NA</td><td>NA</td><td>NA</td><td>NA</td><td>NA</td><td>NA</td><td>NA</td><td>NA</td><td>NA</td><td>...</td></tr><tr><td>&nbsp;</td><td>&nbsp;</td><td>&nbsp;</td><td>&nbsp;</td><td><strong>RNA_snn_res.0.1</strong></td><td>NA</td><td>NA</td><td>NA</td><td>NA</td><td>NA</td><td>NA</td><td>NA</td><td>NA</td><td>NA</td><td>NA</td><td>...</td></tr><tr><td>&nbsp;</td><td>&nbsp;</td><td>&nbsp;</td><td>&nbsp;</td><td><strong>RNA_snn_res.0.2</strong></td><td>NA</td><td>NA</td><td>NA</td><td>NA</td><td>NA</td><td>NA</td><td>NA</td><td>NA</td><td>NA</td><td>NA</td><td>...</td></tr><tr><td>&nbsp;</td><td>&nbsp;</td><td>&nbsp;</td><td>&nbsp;</td><td><strong>RNA_snn_res.0.5</strong></td><td>NA</td><td>NA</td><td>NA</td><td>NA</td><td>NA</td><td>NA</td><td>NA</td><td>NA</td><td>NA</td><td>NA</td><td>...</td></tr><tr><td>&nbsp;</td><td>&nbsp;</td><td>&nbsp;</td><td>&nbsp;</td><td><strong>S.Score</strong></td><td>-0.13937147329213775</td><td>-0.10566765757676956</td><td>-0.10803828095907624</td><td>0.003006196907245129</td><td>-0.06390839249244012</td><td>-0.08088486231871812</td><td>0.04667494475145151</td><td>0.06391203678052287</td><td>0.039759108186933734</td><td>-0.12768035601480712</td><td>...</td></tr><tr><td>&nbsp;</td><td>&nbsp;</td><td>&nbsp;</td><td>&nbsp;</td><td><strong>SAMP</strong></td><td>J9-1</td><td>J9-1</td><td>J9-1</td><td>J9-1</td><td>J9-1</td><td>J9-1</td><td>J9-1</td><td>J9-1</td><td>J9-1</td><td>J9-1</td><td>...</td></tr><tr><td>&nbsp;</td><td>&nbsp;</td><td>&nbsp;</td><td>&nbsp;</td><td><strong>TIME</strong></td><td>J9</td><td>J9</td><td>J9</td><td>J9</td><td>J9</td><td>J9</td><td>J9</td><td>J9</td><td>J9</td><td>J9</td><td>...</td></tr><tr><td>&nbsp;</td><td>&nbsp;</td><td>&nbsp;</td><td>&nbsp;</td><td><strong>batch</strong></td><td>0</td><td>0</td><td>0</td><td>0</td><td>0</td><td>0</td><td>0</td><td>0</td><td>0</td><td>0</td><td>...</td></tr><tr><td>&nbsp;</td><td>&nbsp;</td><td>&nbsp;</td><td>&nbsp;</td><td><strong>cell_type</strong></td><td>Endoderme</td><td>Endoderme</td><td>Trophectoderme</td><td>Epiblaste</td><td>Trophectoderme</td><td>Trophectoderme</td><td>Trophectoderme</td><td>Epiblaste</td><td>Endoderme</td><td>Endoderme</td><td>...</td></tr><tr><td>&nbsp;</td><td>&nbsp;</td><td>&nbsp;</td><td>&nbsp;</td><td><strong>nCount_RNA</strong></td><td>1862.0</td><td>2219.0</td><td>873.0</td><td>8178.0</td><td>1124.0</td><td>1753.0</td><td>1665.0</td><td>3915.0</td><td>6053.0</td><td>5353.0</td><td>...</td></tr><tr><td>&nbsp;</td><td>&nbsp;</td><td>&nbsp;</td><td>&nbsp;</td><td><strong>nFeature_RNA</strong></td><td>777</td><td>897</td><td>583</td><td>1890</td><td>746</td><td>709</td><td>720</td><td>1408</td><td>2183</td><td>1432</td><td>...</td></tr><tr><td>&nbsp;</td><td>&nbsp;</td><td>&nbsp;</td><td>&nbsp;</td><td><strong>obs_names</strong></td><td>AAACCTGAGAGGTTAT-1_1_3-0</td><td>AAACCTGAGATGTTAG-1_1_3-0</td><td>AAACGGGAGGGATACC-1_1_3-0</td><td>AAAGATGCACTACAGT-1_1_3-0</td><td>AAATGCCTCACCAGGC-1_1_3-0</td><td>AACCATGCAGTTAACC-1_1_3-0</td><td>AACTCAGTCCAGGGCT-1_1_3-0</td><td>AACTCCCAGGAATCGC-1_1_3-0</td><td>AACTCCCTCATCTGTT-1_1_3-0</td><td>AACTTTCCAATCGAAA-1_1_3-0</td><td>...</td></tr><tr><td>&nbsp;</td><td>&nbsp;</td><td>&nbsp;</td><td>&nbsp;</td><td><strong>old.ident</strong></td><td>J9-1</td><td>J9-1</td><td>J9-1</td><td>J9-1</td><td>J9-1</td><td>J9-1</td><td>J9-1</td><td>J9-1</td><td>J9-1</td><td>J9-1</td><td>...</td></tr><tr><td>&nbsp;</td><td>&nbsp;</td><td>&nbsp;</td><td>&nbsp;</td><td><strong>orig.ident</strong></td><td>SeuratProject</td><td>SeuratProject</td><td>SeuratProject</td><td>SeuratProject</td><td>SeuratProject</td><td>SeuratProject</td><td>SeuratProject</td><td>SeuratProject</td><td>SeuratProject</td><td>SeuratProject</td><td>...</td></tr><tr><td>&nbsp;</td><td>&nbsp;</td><td>&nbsp;</td><td>&nbsp;</td><td><strong>pANN_0.25_0.09_1026</strong></td><td>0.19740048740861088</td><td>0.25345247766043866</td><td>0.19374492282696995</td><td>0.3765231519090171</td><td>0.22542648253452477</td><td>0.09098294069861901</td><td>0.0694557270511779</td><td>0.3566206336311942</td><td>0.35905767668562144</td><td>0.17952883834281072</td><td>...</td></tr><tr><td>&nbsp;</td><td>&nbsp;</td><td>&nbsp;</td><td>&nbsp;</td><td><strong>pANN_0.25_0.09_141</strong></td><td>nan</td><td>nan</td><td>nan</td><td>nan</td><td>nan</td><td>nan</td><td>nan</td><td>nan</td><td>nan</td><td>nan</td><td>...</td></tr><tr><td>&nbsp;</td><td>&nbsp;</td><td>&nbsp;</td><td>&nbsp;</td><td><strong>pANN_0.25_0.09_304</strong></td><td>nan</td><td>nan</td><td>nan</td><td>nan</td><td>nan</td><td>nan</td><td>nan</td><td>nan</td><td>nan</td><td>nan</td><td>...</td></tr><tr><td>&nbsp;</td><td>&nbsp;</td><td>&nbsp;</td><td>&nbsp;</td><td><strong>pANN_0.25_0.09_877</strong></td><td>nan</td><td>nan</td><td>nan</td><td>nan</td><td>nan</td><td>nan</td><td>nan</td><td>nan</td><td>nan</td><td>nan</td><td>...</td></tr><tr><td>&nbsp;</td><td>&nbsp;</td><td>&nbsp;</td><td>&nbsp;</td><td><strong>percent.mt</strong></td><td>0.008592910848549946</td><td>0.043262730959891846</td><td>0.20389461626575028</td><td>0.0062362435803374906</td><td>0.13612099644128114</td><td>0.025099828864803195</td><td>0.011411411411411412</td><td>0.004342273307790549</td><td>0.34544853791508345</td><td>0.007472445357743321</td><td>...</td></tr><tr><td>&nbsp;</td><td>&nbsp;</td><td>&nbsp;</td><td>&nbsp;</td><td><strong>seurat_clusters</strong></td><td>0</td><td>0</td><td>1</td><td>3</td><td>1</td><td>1</td><td>1</td><td>3</td><td>0</td><td>0</td><td>...</td></tr><tr><td><strong>Gene</strong></td><td><strong>feature_types</strong></td><td><strong>gene_ids</strong></td><td><strong>var_names</strong></td><td>&nbsp;</td><td>&nbsp;</td><td>&nbsp;</td><td>&nbsp;</td><td>&nbsp;</td><td>&nbsp;</td><td>&nbsp;</td><td>&nbsp;</td><td>&nbsp;</td><td>&nbsp;</td><td>&nbsp;</td><td>...</td></tr><tr><td>ENSSSCG00000037372</td><td>Gene Expression</td><td>ENSSSCG00000037372</td><td>ENSSSCG00000037372</td><td>&nbsp;</td><td>0.0</td><td>0.0</td><td>0.0</td><td>0.0</td><td>0.0</td><td>0.0</td><td>0.0</td><td>0.0</td><td>0.0</td><td>0.0</td><td>...</td></tr><tr><td>ENSSSCG00000027257</td><td>Gene Expression</td><td>ENSSSCG00000027257</td><td>PSMB1</td><td>&nbsp;</td><td>0.0</td><td>0.0</td><td>0.0</td><td>8.0</td><td>0.0</td><td>0.0</td><td>0.0</td><td>0.0</td><td>1.0</td><td>3.0</td><td>...</td></tr><tr><td>ENSSSCG00000029697</td><td>Gene Expression</td><td>ENSSSCG00000029697</td><td>FAM120B</td><td>&nbsp;</td><td>0.0</td><td>0.0</td><td>0.0</td><td>0.0</td><td>0.0</td><td>0.0</td><td>0.0</td><td>0.0</td><td>0.0</td><td>0.0</td><td>...</td></tr><tr><td>ENSSSCG00000027726</td><td>Gene Expression</td><td>ENSSSCG00000027726</td><td>DLL1</td><td>&nbsp;</td><td>0.0</td><td>0.0</td><td>0.0</td><td>0.0</td><td>0.0</td><td>0.0</td><td>0.0</td><td>0.0</td><td>0.0</td><td>0.0</td><td>...</td></tr><tr><td>ENSSSCG00000047845</td><td>Gene Expression</td><td>ENSSSCG00000047845</td><td>ENSSSCG00000047845</td><td>&nbsp;</td><td>0.0</td><td>0.0</td><td>0.0</td><td>0.0</td><td>0.0</td><td>0.0</td><td>0.0</td><td>0.0</td><td>0.0</td><td>0.0</td><td>...</td></tr><tr><td>ENSSSCG00000004010</td><td>Gene Expression</td><td>ENSSSCG00000004010</td><td>ERMARD</td><td>&nbsp;</td><td>0.0</td><td>0.0</td><td>0.0</td><td>0.0</td><td>0.0</td><td>0.0</td><td>0.0</td><td>0.0</td><td>0.0</td><td>0.0</td><td>...</td></tr><tr><td>ENSSSCG00000004009</td><td>Gene Expression</td><td>ENSSSCG00000004009</td><td>TCTE3</td><td>&nbsp;</td><td>0.0</td><td>0.0</td><td>0.0</td><td>0.0</td><td>0.0</td><td>0.0</td><td>0.0</td><td>0.0</td><td>0.0</td><td>0.0</td><td>...</td></tr><tr><td>ENSSSCG00000030155</td><td>Gene Expression</td><td>ENSSSCG00000030155</td><td>PHF10</td><td>&nbsp;</td><td>0.0</td><td>0.0</td><td>0.0</td><td>0.0</td><td>0.0</td><td>0.0</td><td>0.0</td><td>0.0</td><td>0.0</td><td>0.0</td><td>...</td></tr><tr><td>ENSSSCG00000038931</td><td>Gene Expression</td><td>ENSSSCG00000038931</td><td>C6orf120</td><td>&nbsp;</td><td>0.0</td><td>0.0</td><td>0.0</td><td>0.0</td><td>0.0</td><td>0.0</td><td>0.0</td><td>0.0</td><td>1.0</td><td>0.0</td><td>...</td></tr><tr><td>ENSSSCG00000004008</td><td>Gene Expression</td><td>ENSSSCG00000004008</td><td>ENSSSCG00000004008</td><td>&nbsp;</td><td>0.0</td><td>0.0</td><td>0.0</td><td>0.0</td><td>0.0</td><td>0.0</td><td>0.0</td><td>0.0</td><td>0.0</td><td>0.0</td><td>...</td></tr><tr><td>...</td><td>...</td><td>...</td><td>...</td><td>...</td><td>...</td><td>...</td><td>...</td><td>...</td><td>...</td><td>...</td><td>...</td><td>...</td><td>...</td><td>...</td><td>...</td></tr></table>"
      ],
      "text/plain": [
       "<loompy.loompy.LoomConnection at 0x7f5ab8ee2b50>"
      ]
     },
     "execution_count": 2,
     "metadata": {},
     "output_type": "execute_result"
    }
   ],
   "source": [
    "ds = lp.connect(\"pigs.loom\")\n",
    "ds"
   ]
  }
 ],
 "metadata": {
  "kernelspec": {
   "display_name": "Python 3 (ipykernel)",
   "language": "python",
   "name": "python3"
  },
  "language_info": {
   "codemirror_mode": {
    "name": "ipython",
    "version": 3
   },
   "file_extension": ".py",
   "mimetype": "text/x-python",
   "name": "python",
   "nbconvert_exporter": "python",
   "pygments_lexer": "ipython3",
   "version": "3.9.12"
  }
 },
 "nbformat": 4,
 "nbformat_minor": 5
}
